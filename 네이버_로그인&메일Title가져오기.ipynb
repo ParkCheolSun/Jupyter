{
 "cells": [
  {
   "cell_type": "code",
   "execution_count": 14,
   "id": "7f056cf1",
   "metadata": {},
   "outputs": [],
   "source": [
    "from selenium import webdriver\n",
    "from selenium.webdriver.common.keys import Keys\n",
    "from selenium.webdriver.common.by import By\n",
    "import time\n",
    "import re\n",
    "import webbrowser"
   ]
  },
  {
   "cell_type": "code",
   "execution_count": 54,
   "id": "d394cd55",
   "metadata": {},
   "outputs": [
    {
     "name": "stderr",
     "output_type": "stream",
     "text": [
      "C:\\Users\\big303\\AppData\\Local\\Temp\\ipykernel_9540\\1142303390.py:1: DeprecationWarning: executable_path has been deprecated, please pass in a Service object\n",
      "  driver = webdriver.Chrome(executable_path='./chromedriver.exe')\n"
     ]
    },
    {
     "name": "stdout",
     "output_type": "stream",
     "text": [
      "새로운 기기에서 로그인 되었습니다.\n",
      "새로운 기기에서 로그인 되었습니다.\n",
      "새로운 기기에서 로그인 되었습니다.\n",
      "새로운 기기에서 로그인 되었습니다.\n",
      "새로운 기기에서 로그인 되었습니다.\n",
      "새로운 기기에서 로그인 되었습니다.\n",
      "새로운 기기에서 로그인 되었습니다.\n",
      "새로운 기기에서 로그인 되었습니다.\n",
      "새로운 기기에서 로그인 되었습니다.\n",
      "알림 없이 로그인하는 기기로 등록 되었습니다.\n",
      "새로운 기기에서 로그인 되었습니다.\n",
      "새로운 환경에서 로그인 되었습니다.\n",
      "새로운 기기에서 로그인 되었습니다.\n",
      "우리은행 위치기반서비스 종료 안내\n",
      "Steam 찜 목록의 Lobotomy Corporation | Monster Management Simulation 제품이 지금 할인 중입니다!\n"
     ]
    }
   ],
   "source": [
    "driver = webdriver.Chrome(executable_path='./chromedriver.exe')\n",
    "url = 'https://www.naver.com/'\n",
    "driver.get(url)\n",
    "time.sleep(3)\n",
    "\n",
    "driver.find_element(By.XPATH,r'//*[@id=\"account\"]/a').click()\n",
    "time.sleep(2)\n",
    "\n",
    "# 로그인\n",
    "driver.execute_script(\"document.getElementById('id').value = 'qkr5759'\")\n",
    "driver.execute_script(\"document.getElementById('pw').value = 'tbfpr2607'\")\n",
    "time.sleep(2)\n",
    "driver.find_element(By.XPATH,r'//*[@id=\"log.login\"]').click()\n",
    "time.sleep(1)\n",
    "driver.find_element(By.XPATH,r'//*[@id=\"new.dontsave\"]').click()\n",
    "time.sleep(2)\n",
    "\n",
    "number = 2\n",
    "\n",
    "# 메일 방법1\n",
    "if number == 0:\n",
    "    driver.find_element(By.XPATH,'//*[@id=\"NM_FAVORITE\"]/div[1]/ul[1]/li[1]/a').click()\n",
    "    time.sleep(2)\n",
    "    mail_title = []\n",
    "    for i in range(1,16):\n",
    "        mail_title.append(driver.find_element(By.XPATH,r'//*[@id=\"list_for_view\"]/ol/li['+str(i)+']/div/div[2]/a[1]/span/strong').text)\n",
    "    \n",
    "    for t in mail_title:\n",
    "        print(t)\n",
    "        \n",
    "elif number == 1:\n",
    "    driver.switch_to.frame('minime')\n",
    "    #print(driver.page_source)\n",
    "    driver.find_element(By.XPATH,'//*[@id=\"NM_MY_TAB\"]/div/div[1]/a[3]').click()\n",
    "    time.sleep(2)\n",
    "    mail_title = []\n",
    "    for i in range(1,31):\n",
    "        mail_title.append(driver.find_element(By.XPATH,r'/html/body/div/div/div[2]/div[1]/div[2]/div/ul/li['+str(i)+']/div/a[1]/div[1]/em').text)\n",
    "    driver.switch_to.default_content()\n",
    "    for t in mail_title:\n",
    "        print(t)\n",
    "        \n",
    "elif number==2:\n",
    "    driver.switch_to.frame('minime')\n",
    "    driver.find_element(By.XPATH,'/html/body/div/div/div[1]/div[1]/div/div[2]/a[1]').click()\n",
    "    time.sleep(2)\n",
    "    mail_title = []\n",
    "    for i in range(1,16):\n",
    "        mail_title.append(driver.find_element(By.XPATH,r'//*[@id=\"list_for_view\"]/ol/li['+str(i)+']/div/div[2]/a[1]/span/strong').text)\n",
    "    driver.switch_to.default_content()\n",
    "    for t in mail_title:\n",
    "        print(t)\n",
    "#driver.close()"
   ]
  }
 ],
 "metadata": {
  "kernelspec": {
   "display_name": "Python 3 (ipykernel)",
   "language": "python",
   "name": "python3"
  },
  "language_info": {
   "codemirror_mode": {
    "name": "ipython",
    "version": 3
   },
   "file_extension": ".py",
   "mimetype": "text/x-python",
   "name": "python",
   "nbconvert_exporter": "python",
   "pygments_lexer": "ipython3",
   "version": "3.9.12"
  }
 },
 "nbformat": 4,
 "nbformat_minor": 5
}
