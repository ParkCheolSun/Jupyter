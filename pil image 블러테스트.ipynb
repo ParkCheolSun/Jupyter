{
 "cells": [
  {
   "cell_type": "code",
   "execution_count": 2,
   "id": "1a896f25",
   "metadata": {},
   "outputs": [],
   "source": [
    "from PIL import Image, ImageFilter"
   ]
  },
  {
   "cell_type": "code",
   "execution_count": null,
   "id": "f31909a4",
   "metadata": {},
   "outputs": [],
   "source": [
    "cat = Image.open('cat.jpg')\n",
    "blurryCat = cat.filter(ImageFilter.GaussianBlur)\n",
    "blurryCat.save('Cat_blurred.jpg')\n",
    "blurryCat.show()"
   ]
  }
 ],
 "metadata": {
  "kernelspec": {
   "display_name": "Python 3 (ipykernel)",
   "language": "python",
   "name": "python3"
  },
  "language_info": {
   "codemirror_mode": {
    "name": "ipython",
    "version": 3
   },
   "file_extension": ".py",
   "mimetype": "text/x-python",
   "name": "python",
   "nbconvert_exporter": "python",
   "pygments_lexer": "ipython3",
   "version": "3.9.12"
  }
 },
 "nbformat": 4,
 "nbformat_minor": 5
}
