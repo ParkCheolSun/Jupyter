{
 "cells": [
  {
   "cell_type": "markdown",
   "id": "916392e4",
   "metadata": {},
   "source": [
    "# 3. 주유소 휘발유 가격 - 박철순"
   ]
  },
  {
   "cell_type": "code",
   "execution_count": 10,
   "id": "94fc0110",
   "metadata": {},
   "outputs": [],
   "source": [
    "from selenium import webdriver\n",
    "from selenium.webdriver.common.keys import Keys\n",
    "from selenium.webdriver.common.by import By\n",
    "import time\n",
    "import pandas as pd"
   ]
  },
  {
   "cell_type": "code",
   "execution_count": 13,
   "id": "a9c33703",
   "metadata": {},
   "outputs": [
    {
     "name": "stderr",
     "output_type": "stream",
     "text": [
      "C:\\Users\\big303\\AppData\\Local\\Temp\\ipykernel_1296\\4261327906.py:1: DeprecationWarning: executable_path has been deprecated, please pass in a Service object\n",
      "  driver = webdriver.Chrome(executable_path='./chromedriver.exe')\n"
     ]
    }
   ],
   "source": [
    "driver = webdriver.Chrome(executable_path='./chromedriver.exe')\n",
    "url = 'https://www.opinet.co.kr/user/main/mainView.do'\n",
    "driver.get(url)\n",
    "time.sleep(3)\n",
    "driver.find_element(By.XPATH,r'//*[@id=\"quick_ul\"]/li[2]/a').click()\n",
    "time.sleep(3)\n",
    "driver.find_element(By.XPATH,r'//*[@id=\"SIDO_NM0\"]/option[7]').click()\n",
    "time.sleep(1)\n",
    "driver.find_element(By.XPATH,r'//*[@id=\"SIGUNGU_NM0\"]/option[4]').click()\n",
    "time.sleep(1)\n",
    "driver.find_element(By.XPATH,r'//*[@id=\"searRgSelect\"]/span').click()\n",
    "time.sleep(2)\n",
    "driver.find_element(By.XPATH,r'//*[@id=\"os_layer2\"]/p/a').click()\n",
    "time.sleep(2)\n",
    "\n",
    "# 전체 데이터 저장\n",
    "driver.find_element(By.XPATH,r'//*[@id=\"glopopd_excel\"]/span').click()\n",
    "time.sleep(3)\n",
    "\n",
    "# 보통휘발유만 저장\n",
    "opnet_lists = []\n",
    "for i in range(1,42):\n",
    "    op_name = driver.find_element(By.XPATH,r'//*[@id=\"body1\"]/tr['+str(i)+']/td[1]/a').text\n",
    "    op_hoil = driver.find_element(By.XPATH,r'//*[@id=\"body1\"]/tr['+str(i)+']/td[2]').text\n",
    "    op_soil = driver.find_element(By.XPATH,r'//*[@id=\"body1\"]/tr['+str(i)+']/td[3]').text\n",
    "    op_list = []\n",
    "    op_list.append(op_name)\n",
    "    op_list.append(op_hoil)\n",
    "    op_list.append(op_soil)\n",
    "    opnet_lists.append(op_list)\n",
    "df = pd.DataFrame.from_records(opnet_lists)\n",
    "df.to_excel('opnet_data.xlsx',sheet_name='opnet_data')\n",
    "\n",
    "\n",
    "driver.close()"
   ]
  }
 ],
 "metadata": {
  "kernelspec": {
   "display_name": "Python 3 (ipykernel)",
   "language": "python",
   "name": "python3"
  },
  "language_info": {
   "codemirror_mode": {
    "name": "ipython",
    "version": 3
   },
   "file_extension": ".py",
   "mimetype": "text/x-python",
   "name": "python",
   "nbconvert_exporter": "python",
   "pygments_lexer": "ipython3",
   "version": "3.9.12"
  }
 },
 "nbformat": 4,
 "nbformat_minor": 5
}
