{
 "cells": [
  {
   "cell_type": "code",
   "execution_count": 1,
   "id": "f9a86ad0",
   "metadata": {},
   "outputs": [],
   "source": [
    "# selenium과 beautifulSoup 병행사용"
   ]
  },
  {
   "cell_type": "code",
   "execution_count": 38,
   "id": "6bc4e112",
   "metadata": {},
   "outputs": [],
   "source": [
    "from selenium import webdriver\n",
    "from selenium.webdriver.common.by import By\n",
    "from bs4 import BeautifulSoup\n",
    "import time\n",
    "import requests\n",
    "import urllib.request as req"
   ]
  },
  {
   "cell_type": "code",
   "execution_count": 42,
   "id": "3b0b467d",
   "metadata": {
    "scrolled": false
   },
   "outputs": [
    {
     "name": "stderr",
     "output_type": "stream",
     "text": [
      "C:\\Users\\big303\\AppData\\Local\\Temp\\ipykernel_10068\\1665918897.py:2: DeprecationWarning: executable_path has been deprecated, please pass in a Service object\n",
      "  driver = webdriver.Chrome(executable_path='./chromedriver.exe')\n"
     ]
    },
    {
     "name": "stdout",
     "output_type": "stream",
     "text": [
      "이미지 다운 완료\n"
     ]
    }
   ],
   "source": [
    "# selenium\n",
    "driver = webdriver.Chrome(executable_path='./chromedriver.exe')\n",
    "url = 'https://bobaedream.co.kr/'\n",
    "driver.get(url)\n",
    "time.sleep(2)\n",
    "driver.find_element(By.XPATH,r'//*[@id=\"bobaeHead\"]/div[2]/div/div[1]/ul/li[3]/a/span').click()\n",
    "time.sleep(3)\n",
    "\n",
    "# BeautifulSoup\n",
    "html = driver.page_source\n",
    "bs = BeautifulSoup(html,'html.parser')\n",
    "\n",
    "title_data = bs.findAll('p',{'class':\"tit\"})\n",
    "image_data = bs.findAll('a',{'class':'img'})\n",
    "\n",
    "# 0:requests.get / 1:urllib.request\n",
    "number = 1;\n",
    "\n",
    "# web에서 이미지 가져오기 requests.get 방법\n",
    "if number == 0:\n",
    "    cnt = 1\n",
    "    for image in image_data:\n",
    "        file = open('images/car_img' + str(cnt) + '.jpg','wb')\n",
    "        url = 'http://' + image.img.attrs['src'].strip(\"//\")\n",
    "        img_res = requests.get(url)\n",
    "        file.write(img_res.content)\n",
    "        cnt += 1\n",
    "        file.close()\n",
    "# web에서 이미지 가져오기 urllib.request 방법\n",
    "elif number == 1:\n",
    "    cnt = 1\n",
    "    for image in image_data:\n",
    "        url = 'http://' + image.img.attrs['src'].strip(\"//\")\n",
    "        path = 'images/car_img' + str(cnt) + '.jpg'\n",
    "        img_down = req.urlretrieve(url, path)\n",
    "        cnt += 1\n",
    "print('이미지 다운 완료')"
   ]
  }
 ],
 "metadata": {
  "kernelspec": {
   "display_name": "Python 3 (ipykernel)",
   "language": "python",
   "name": "python3"
  },
  "language_info": {
   "codemirror_mode": {
    "name": "ipython",
    "version": 3
   },
   "file_extension": ".py",
   "mimetype": "text/x-python",
   "name": "python",
   "nbconvert_exporter": "python",
   "pygments_lexer": "ipython3",
   "version": "3.9.12"
  }
 },
 "nbformat": 4,
 "nbformat_minor": 5
}
