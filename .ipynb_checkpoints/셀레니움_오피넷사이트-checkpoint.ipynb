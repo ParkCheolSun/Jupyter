{
 "cells": [
  {
   "cell_type": "code",
   "execution_count": 16,
   "id": "20c3088d",
   "metadata": {},
   "outputs": [
    {
     "name": "stderr",
     "output_type": "stream",
     "text": [
      "C:\\Users\\big303\\AppData\\Local\\Temp\\ipykernel_6044\\203819851.py:5: DeprecationWarning: executable_path has been deprecated, please pass in a Service object\n",
      "  driver = webdriver.Chrome(executable_path='./chromedriver.exe')\n"
     ]
    },
    {
     "name": "stdout",
     "output_type": "stream",
     "text": [
      "['구봉산셀프주유소', '1693', '1805']\n",
      "['굿모닝주유소', '1695', '1834']\n",
      "['제이에너지(주)남...', '1695', '1825']\n",
      "['주홍셀프', '1695', '1825']\n",
      "['대림주유소', '1695', '1811']\n",
      "['도마진실주유소', '1695', '1845']\n",
      "['씨앤에스유통㈜도안...', '1695', '1855']\n",
      "['중도석유(주) 도...', '1696', '1825']\n",
      "['(주)혜천셀프주유...', '1696', '1819']\n",
      "['그린주유소', '1697', '1847']\n",
      "['갈마주유소', '1697', '1847']\n",
      "['배재주유소', '1697', '1847']\n",
      "['씨앤에스유통㈜ 호...', '1698', '1811']\n",
      "['(주)에너비즈 둔...', '1699', '1829']\n",
      "['(주)탄방주유소', '1699', '1829']\n",
      "['우리하나셀프주유소', '1699', '1829']\n",
      "['(주)가수원하늘셀...', '1704', '1838']\n",
      "['(주)덕성에너지 ...', '1708', '1815']\n",
      "['타임셀프주유소', '1713', '1843']\n",
      "['중도석유(주) 대...', '1714', '1890']\n",
      "['현대셀프주유소', '1717', '1827']\n",
      "['배재로주유소', '1719', '1839']\n",
      "['(주)에너비즈 명...', '1719', '1839']\n",
      "['지에스칼텍스㈜ 우...', '1719', '1897']\n",
      "['중도석유(주)월드...', '1724', '1854']\n",
      "['KH에너지(주)직...', '1725', '1845']\n",
      "['가원주유소', '1725', '1870']\n",
      "['황금주유소', '1727', '1867']\n",
      "['기성농협주유소', '1729', '1855']\n",
      "['극동유화(주) 한...', '1729', '1859']\n",
      "['중동주유소', '1729', '1862']\n",
      "['지에스칼텍스㈜ 정...', '1742', '1883']\n",
      "['괴정주유소', '1749', '1879']\n",
      "['우리주유소', '1755', '1875']\n",
      "['(주)동건에너지 ...', '1764', '1894']\n",
      "['지에스칼텍스㈜ G...', '1764', '1954']\n",
      "['도마주유소', '1765', '1800']\n",
      "['창현주유소', '1765', '1875']\n",
      "['유진주유소', '1797', '1987']\n",
      "['삼정주유소', '1898', '1999']\n",
      "['백산주유소', '2199', '2299']\n"
     ]
    }
   ],
   "source": [
    "from selenium import webdriver\n",
    "from selenium.webdriver.common.keys import Keys\n",
    "from selenium.webdriver.common.by import By\n",
    "import time\n",
    "driver = webdriver.Chrome(executable_path='./chromedriver.exe')\n",
    "url = 'https://www.opinet.co.kr/user/main/mainView.do'\n",
    "driver.get(url)\n",
    "time.sleep(3)\n",
    "driver.find_element(By.XPATH,r'//*[@id=\"quick_ul\"]/li[2]/a').click()\n",
    "time.sleep(3)\n",
    "driver.find_element(By.XPATH,r'//*[@id=\"SIDO_NM0\"]/option[7]').click()\n",
    "time.sleep(1)\n",
    "driver.find_element(By.XPATH,r'//*[@id=\"SIGUNGU_NM0\"]/option[4]').click()\n",
    "time.sleep(1)\n",
    "driver.find_element(By.XPATH,r'//*[@id=\"searRgSelect\"]/span').click()\n",
    "time.sleep(2)\n",
    "#driver.find_element(By.XPATH,r'//*[@id=\"glopopd_excel\"]/span').click()\n",
    "opnet_lists = []\n",
    "for i in range(1,42):\n",
    "    op_name = driver.find_element(By.XPATH,r'//*[@id=\"body1\"]/tr['+str(i)+']/td[1]/a').text\n",
    "    op_hoil = driver.find_element(By.XPATH,r'//*[@id=\"body1\"]/tr['+str(i)+']/td[2]').text\n",
    "    op_soil = driver.find_element(By.XPATH,r'//*[@id=\"body1\"]/tr['+str(i)+']/td[3]').text\n",
    "    op_list = []\n",
    "    op_list.append(op_name)\n",
    "    op_list.append(op_hoil)\n",
    "    op_list.append(op_soil)\n",
    "    opnet_lists.append(op_list)\n",
    "for item in opnet_lists:\n",
    "    print(item)\n",
    "time.sleep(1)"
   ]
  },
  {
   "cell_type": "code",
   "execution_count": 6,
   "id": "864f2c91",
   "metadata": {},
   "outputs": [],
   "source": []
  }
 ],
 "metadata": {
  "kernelspec": {
   "display_name": "Python 3 (ipykernel)",
   "language": "python",
   "name": "python3"
  },
  "language_info": {
   "codemirror_mode": {
    "name": "ipython",
    "version": 3
   },
   "file_extension": ".py",
   "mimetype": "text/x-python",
   "name": "python",
   "nbconvert_exporter": "python",
   "pygments_lexer": "ipython3",
   "version": "3.9.12"
  }
 },
 "nbformat": 4,
 "nbformat_minor": 5
}
