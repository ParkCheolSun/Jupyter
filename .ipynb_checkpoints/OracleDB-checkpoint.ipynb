{
 "cells": [
  {
   "cell_type": "code",
   "execution_count": 3,
   "id": "c16751c9",
   "metadata": {},
   "outputs": [],
   "source": [
    "import cx_Oracle\n",
    "import os"
   ]
  },
  {
   "cell_type": "code",
   "execution_count": 10,
   "id": "e7f53b88",
   "metadata": {},
   "outputs": [],
   "source": [
    "LOCATION = r'C:\\instantclient_21_6'\n",
    "os.environ[\"PATH\"] = LOCATION + \":\" + os.environ[\"PATH\"]\n",
    "connect = cx_Oracle.connect(\"HR\",\"12345\",\"localhost:1521/xe\")\n",
    "cursor = connect.cursor()\n",
    "\n",
    "cursor.execute('insert into python values(:1,:2,:3)',[1,'홍길동',30])\n",
    "connect.commit()"
   ]
  }
 ],
 "metadata": {
  "kernelspec": {
   "display_name": "Python 3 (ipykernel)",
   "language": "python",
   "name": "python3"
  },
  "language_info": {
   "codemirror_mode": {
    "name": "ipython",
    "version": 3
   },
   "file_extension": ".py",
   "mimetype": "text/x-python",
   "name": "python",
   "nbconvert_exporter": "python",
   "pygments_lexer": "ipython3",
   "version": "3.9.12"
  }
 },
 "nbformat": 4,
 "nbformat_minor": 5
}
