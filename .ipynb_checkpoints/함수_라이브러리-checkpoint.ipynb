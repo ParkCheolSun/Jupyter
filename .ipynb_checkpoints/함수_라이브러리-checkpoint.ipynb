{
 "cells": [
  {
   "cell_type": "code",
   "execution_count": 7,
   "id": "b0e299f0",
   "metadata": {},
   "outputs": [],
   "source": [
    "# 공통 LIB\n",
    "from urllib.request import urlopen"
   ]
  },
  {
   "cell_type": "code",
   "execution_count": 8,
   "id": "8703a24c",
   "metadata": {},
   "outputs": [],
   "source": [
    "# PDF LIB_1\n",
    "from pdfminer.pdfinterp import PDFResourceManager, process_pdf\n",
    "from pdfminer.converter import TextConverter\n",
    "from pdfminer.layout import LAParams\n",
    "from io import StringIO\n",
    "from io import open"
   ]
  },
  {
   "cell_type": "code",
   "execution_count": 18,
   "id": "22cdb50e",
   "metadata": {},
   "outputs": [],
   "source": [
    "# PDF LIB_2\n",
    "from PyPDF2 import PdfFileReader, PdfFileWriter"
   ]
  },
  {
   "cell_type": "code",
   "execution_count": 1,
   "id": "ffa163f7",
   "metadata": {},
   "outputs": [],
   "source": [
    "# ngrames 단어묶기\n",
    "from bs4 import BeautifulSoup as BS\n",
    "import re\n",
    "import string\n",
    "from collections import Counter"
   ]
  },
  {
   "cell_type": "code",
   "execution_count": 5,
   "id": "e8b3db8c",
   "metadata": {},
   "outputs": [],
   "source": [
    "# 마르코프 모델(요약문만들기)\n",
    "from random import randint"
   ]
  },
  {
   "cell_type": "code",
   "execution_count": 13,
   "id": "beff355b",
   "metadata": {},
   "outputs": [],
   "source": [
    "# PDF 파일 열기_1 : return -> String\n",
    "def readPDF(pdfFile):\n",
    "    rsrcmgr = PDFResourceManager()\n",
    "    retstr = StringIO()\n",
    "    laparams = LAParams()\n",
    "    device = TextConverter(rsrcmgr, retstr, laparams=laparams)\n",
    "    \n",
    "    process_pdf(rsrcmgr, device, pdfFile)\n",
    "    device.close()\n",
    "    \n",
    "    content = retstr.getvalue()\n",
    "    retstr.close()\n",
    "    return content\n",
    "\n",
    "# url형식으로 파일열기\n",
    "def readPDF_URL(url):\n",
    "    pdfFile = urlopen(url)\n",
    "    \n",
    "    rsrcmgr = PDFResourceManager()\n",
    "    retstr = StringIO()\n",
    "    laparams = LAParams()\n",
    "    device = TextConverter(rsrcmgr, retstr, laparams=laparams)\n",
    "    \n",
    "    process_pdf(rsrcmgr, device, pdfFile)\n",
    "    device.close()\n",
    "    \n",
    "    content = retstr.getvalue()\n",
    "    retstr.close()\n",
    "    pdfFile.close()\n",
    "    return content"
   ]
  },
  {
   "cell_type": "code",
   "execution_count": 21,
   "id": "cd746a97",
   "metadata": {},
   "outputs": [],
   "source": [
    "# PDF 파일 열기_2 : return -> 해당페이지의 String\n",
    "def readPDF_getPage(pdfFile,pageNum):\n",
    "    pdfReader = PdfFileReader(open(pdfFile, 'rb'))\n",
    "    return pdfReader.getPage(pageNum).extract_text()\n",
    "\n",
    "# PDF 파일 열기_2 : return -> 전체페이지의 String\n",
    "def readPDF_getPage(pdfFile):\n",
    "    pdfReader = PdfFileReader(open(pdfFile, 'rb'))\n",
    "    content = ''\n",
    "    for i in range(pdfReader.getNumPages()):\n",
    "        content += pdfReader.getPage(i).extract_text()\n",
    "    return content\n",
    "\n",
    "# PDF 파일 한 페이지만 따로 저장\n",
    "def savePDF_onePage(pdfFile, saveName, pageNum):\n",
    "    pdfReader  = PdfFileReader(open(pdfFile, 'rb'))\n",
    "    pdf_writer = PdfFileWriter()\n",
    "    pdf_writer.add_page(pdfReader.getPage(pageNum))\n",
    "    with open(saveName,'wb') as f:\n",
    "        pdf_writer.write(f)"
   ]
  },
  {
   "cell_type": "code",
   "execution_count": 32,
   "id": "85543ef2",
   "metadata": {},
   "outputs": [
    {
     "data": {
      "text/plain": [
       "\"\\nhtml = urlopen('https://en.wikipedia.org/wiki/Python_(programming_language)')\\nbs = BS(html,'html.parser')\\ncontent = bs.find('div',{'id':'mw-content-text'}).get_text()\\nngrams = getNgrames(content,2)\\nfor ngram in ngrams:\\n    print(ngram)\\n\""
      ]
     },
     "execution_count": 32,
     "metadata": {},
     "output_type": "execute_result"
    }
   ],
   "source": [
    "# ngrames 단어묶기_1 : return => list\n",
    "def getNgrams(content, n):\n",
    "    content = re.sub('\\n|[[\\d+\\]]',' ',content)\n",
    "    content = bytes(content,'UTF-8')\n",
    "    content = content.decode('ascii','ignore')\n",
    "    content = content.split(' ')\n",
    "    content = [word for word in content if word != '']\n",
    "    output = []\n",
    "    for i in range(len(content)-n+1):\n",
    "        output.append(content[i:i+n])\n",
    "    return output\n",
    "\n",
    "# 사용 예시\n",
    "\"\"\"\n",
    "html = urlopen('https://en.wikipedia.org/wiki/Python_(programming_language)')\n",
    "bs = BS(html,'html.parser')\n",
    "content = bs.find('div',{'id':'mw-content-text'}).get_text()\n",
    "ngrams = getNgrames(content,2)\n",
    "for ngram in ngrams:\n",
    "    print(ngram)\n",
    "\"\"\""
   ]
  },
  {
   "cell_type": "code",
   "execution_count": 4,
   "id": "dd049806",
   "metadata": {},
   "outputs": [
    {
     "data": {
      "text/plain": [
       "\"\\nhtml = urlopen('https://en.wikipedia.org/wiki/Python_(programming_language)')\\nbs = BS(html,'html.parser')\\ncontent = bs.find('div',{'id':'mw-content-text'}).get_text()\\n#ngrames = getNgrames(content,2)\\nngrams = getNgrams(content,2)\\nfor key,value in ngrams.items():\\n    print(key,value)\\n\""
      ]
     },
     "execution_count": 4,
     "metadata": {},
     "output_type": "execute_result"
    }
   ],
   "source": [
    "# ngrames 단어묶기\n",
    "def cleanSentence(sentence):\n",
    "    sentence = sentence.split(' ')\n",
    "    sentence = [word.strip(string.punctuation+string.whitespace) for word in sentence]\n",
    "    sentence = [word for word in sentence if len(word) > 1 or (word.lower() == 'a' or word.lower() == 'i')]\n",
    "    return sentence\n",
    "    \n",
    "def cleanInput(content):\n",
    "    content = content.upper()\n",
    "    content = re.sub('\\n|[[\\d+\\]]',' ',content)\n",
    "    content = bytes(content,'UTF-8')\n",
    "    content = content.decode('ascii','ignore')\n",
    "    sentences = content.split('. ')\n",
    "    return [cleanSentence(sentence) for sentence in sentences]\n",
    "\n",
    "def getNgramsFromSentence(content, n):\n",
    "    output = []\n",
    "    for i in range(len(content)-n+1):\n",
    "        output.append(content[i:i+n])\n",
    "    return output\n",
    "    \n",
    "def getNgrams(content, n):\n",
    "    content = cleanInput(content)\n",
    "    ngrams = Counter()\n",
    "    ngrams_list = []\n",
    "    for sentence in content:\n",
    "        newNgrams = [' '.join(ngram) for ngram in getNgramsFromSentence(sentence,n)]\n",
    "        ngrams_list.extend(newNgrams)\n",
    "        ngrams.update(newNgrams)\n",
    "    return(ngrams)\n",
    "\n",
    "# 사용 예시\n",
    "\"\"\"\n",
    "html = urlopen('https://en.wikipedia.org/wiki/Python_(programming_language)')\n",
    "bs = BS(html,'html.parser')\n",
    "content = bs.find('div',{'id':'mw-content-text'}).get_text()\n",
    "#ngrames = getNgrames(content,2)\n",
    "ngrams = getNgrams(content,2)\n",
    "for key,value in ngrams.items():\n",
    "    print(key,value)\n",
    "\"\"\""
   ]
  },
  {
   "cell_type": "code",
   "execution_count": 7,
   "id": "e8d2f738",
   "metadata": {},
   "outputs": [
    {
     "data": {
      "text/plain": [
       "\"\\n사용방법\\nspeech = 'http://pythonscraping.com/files/inaugurationSpeech.txt'\\ntext = str(urlopen(speech).read(),'utf-8')\\nwordDict = buildWordDict(text)\\n\\n#for key, value in wordDict.items():\\n#    print(key , value)\\n\\nlength = 100\\nchain = ['I']\\nfor i in range(0, length):\\n    newWord = retrieveRandomWord(wordDict[chain[-1]])\\n    chain.append(newWord)\\n\\nprint(' '.join(chain))\\n\""
      ]
     },
     "execution_count": 7,
     "metadata": {},
     "output_type": "execute_result"
    }
   ],
   "source": [
    "# 마르코프 모델(요약문만들기)\n",
    "def wordListSum(wordList):\n",
    "    sum = 0\n",
    "    for word, value in wordList.items():\n",
    "        sum += value\n",
    "    return sum\n",
    "\n",
    "def retrieveRandomWord(wordList):\n",
    "    randIndex = randint(1, wordListSum(wordList))\n",
    "    for word, value in wordList.items():\n",
    "        randIndex -= value\n",
    "        if randIndex <= 0:\n",
    "            return word\n",
    "        \n",
    "def buildWordDict(text):\n",
    "    text = text.replace('\\n',' ')\n",
    "    text = text.replace('\"','')\n",
    "    text = text.replace('\\r','')\n",
    "    \n",
    "    punctuation = [',','.',';',':']\n",
    "    for symbol in punctuation:\n",
    "        text = text.replace(symbol,' {} '.format(symbol))\n",
    "        \n",
    "    words = text.split(' ')\n",
    "    words = [word for word in words if word != '']\n",
    "    \n",
    "    wordDict = {}\n",
    "    for i in range(1, len(words)):\n",
    "        if words[i-1] not in wordDict:\n",
    "            wordDict[words[i-1]] = {}\n",
    "        if words[i] not in wordDict[words[i-1]]:\n",
    "            wordDict[words[i-1]][words[i]] = 0\n",
    "        wordDict[words[i-1]][words[i]] += 1\n",
    "    return wordDict;\n",
    "\n",
    "\"\"\"\n",
    "사용방법\n",
    "speech = 'http://pythonscraping.com/files/inaugurationSpeech.txt'\n",
    "text = str(urlopen(speech).read(),'utf-8')\n",
    "wordDict = buildWordDict(text)\n",
    "\n",
    "#for key, value in wordDict.items():\n",
    "#    print(key , value)\n",
    "\n",
    "length = 100\n",
    "chain = ['I']\n",
    "for i in range(0, length):\n",
    "    newWord = retrieveRandomWord(wordDict[chain[-1]])\n",
    "    chain.append(newWord)\n",
    "\n",
    "print(' '.join(chain))\n",
    "\"\"\""
   ]
  }
 ],
 "metadata": {
  "kernelspec": {
   "display_name": "Python 3 (ipykernel)",
   "language": "python",
   "name": "python3"
  },
  "language_info": {
   "codemirror_mode": {
    "name": "ipython",
    "version": 3
   },
   "file_extension": ".py",
   "mimetype": "text/x-python",
   "name": "python",
   "nbconvert_exporter": "python",
   "pygments_lexer": "ipython3",
   "version": "3.9.12"
  }
 },
 "nbformat": 4,
 "nbformat_minor": 5
}
