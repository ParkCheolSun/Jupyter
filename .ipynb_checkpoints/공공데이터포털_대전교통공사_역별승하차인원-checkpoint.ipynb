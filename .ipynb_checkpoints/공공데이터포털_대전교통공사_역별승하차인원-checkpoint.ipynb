{
 "cells": [
  {
   "cell_type": "code",
   "execution_count": 28,
   "id": "3112590e",
   "metadata": {},
   "outputs": [],
   "source": [
    "from selenium import webdriver\n",
    "from selenium.webdriver.common.keys import Keys\n",
    "from selenium.webdriver.common.by import By\n",
    "import time\n",
    "import re\n",
    "from bs4 import BeautifulSoup\n",
    "import requests\n",
    "from urllib.request import urlopen"
   ]
  },
  {
   "cell_type": "code",
   "execution_count": 1,
   "id": "c7f4c0f8",
   "metadata": {},
   "outputs": [
    {
     "ename": "NameError",
     "evalue": "name 'urlopen' is not defined",
     "output_type": "error",
     "traceback": [
      "\u001b[1;31m---------------------------------------------------------------------------\u001b[0m",
      "\u001b[1;31mNameError\u001b[0m                                 Traceback (most recent call last)",
      "Input \u001b[1;32mIn [1]\u001b[0m, in \u001b[0;36m<cell line: 12>\u001b[1;34m()\u001b[0m\n\u001b[0;32m      8\u001b[0m params \u001b[38;5;241m=\u001b[39m{\u001b[38;5;124m'\u001b[39m\u001b[38;5;124mserviceKey\u001b[39m\u001b[38;5;124m'\u001b[39m : {serviceKey}, \u001b[38;5;124m'\u001b[39m\u001b[38;5;124mstartDate\u001b[39m\u001b[38;5;124m'\u001b[39m : {startDate}, \u001b[38;5;124m'\u001b[39m\u001b[38;5;124mendDate\u001b[39m\u001b[38;5;124m'\u001b[39m : {endDate} }\n\u001b[0;32m     10\u001b[0m \u001b[38;5;66;03m#response = requests.get(url, params=params)\u001b[39;00m\n\u001b[0;32m     11\u001b[0m \u001b[38;5;66;03m#print(response.content)\u001b[39;00m\n\u001b[1;32m---> 12\u001b[0m result \u001b[38;5;241m=\u001b[39m \u001b[43murlopen\u001b[49m(url_f)\n\u001b[0;32m     13\u001b[0m bs \u001b[38;5;241m=\u001b[39m BeautifulSoup(result,\u001b[38;5;124m'\u001b[39m\u001b[38;5;124mlxml-xml\u001b[39m\u001b[38;5;124m'\u001b[39m)\n\u001b[0;32m     14\u001b[0m \u001b[38;5;28mprint\u001b[39m(bs)\n",
      "\u001b[1;31mNameError\u001b[0m: name 'urlopen' is not defined"
     ]
    }
   ],
   "source": [
    "serviceKey = 'JSuVo37V02l8BfQMlTrWZQuPLcNmmgGpeXEewVIeRi2Ajw7X4hKDDWx0DbsTQU90sT1brQ0ZwTO8yM/WWIv7Rw=='\n",
    "startDate = '20220919'\n",
    "endDate = '20220919'\n",
    "\n",
    "url = 'http://www.djtc.kr/OpenAPI/service/StationPassengerSVC/getStationPassenger'\n",
    "url_f = f'http://www.djtc.kr/OpenAPI/service/StationPassengerSVC/getStationPassenger?serviceKey={serviceKey}&startDate={startDate}&endDate={endDate}'\n",
    "\n",
    "params ={'serviceKey' : {serviceKey}, 'startDate' : {startDate}, 'endDate' : {endDate} }\n",
    "\n",
    "#response = requests.get(url, params=params)\n",
    "#print(response.content)\n",
    "result = urlopen(url_f)\n",
    "bs = BeautifulSoup(result,'lxml-xml')\n",
    "print(bs)\n",
    "item = bs.find_all('item')\n",
    "for i in item:\n",
    "    print(i)\n",
    "    print(i.find('stationNo').string)\n",
    "    print(i.find('entryFlag').string)\n",
    "    for k in i.find_all(re.compile('cnt_\\d')):\n",
    "        print(k.string,end=' ')\n",
    "    print()"
   ]
  }
 ],
 "metadata": {
  "kernelspec": {
   "display_name": "Python 3 (ipykernel)",
   "language": "python",
   "name": "python3"
  },
  "language_info": {
   "codemirror_mode": {
    "name": "ipython",
    "version": 3
   },
   "file_extension": ".py",
   "mimetype": "text/x-python",
   "name": "python",
   "nbconvert_exporter": "python",
   "pygments_lexer": "ipython3",
   "version": "3.9.12"
  }
 },
 "nbformat": 4,
 "nbformat_minor": 5
}
