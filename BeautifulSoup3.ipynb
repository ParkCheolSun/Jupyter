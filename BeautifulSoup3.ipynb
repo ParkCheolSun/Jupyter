{
 "cells": [
  {
   "cell_type": "code",
   "execution_count": 2,
   "id": "dbd3dd5f",
   "metadata": {},
   "outputs": [],
   "source": [
    "from urllib.request import urlopen\n",
    "from bs4 import BeautifulSoup\n",
    "import re"
   ]
  },
  {
   "cell_type": "code",
   "execution_count": 9,
   "id": "c1733018",
   "metadata": {},
   "outputs": [],
   "source": [
    "url = 'https://search.shopping.naver.com/search/category/100009412'\n",
    "html = urlopen(url)\n",
    "bs = BeautifulSoup(html, 'html.parser')"
   ]
  },
  {
   "cell_type": "code",
   "execution_count": 57,
   "id": "9e7b609a",
   "metadata": {},
   "outputs": [
    {
     "name": "stdout",
     "output_type": "stream",
     "text": [
      "산지직송 제철 가을 활꽃게 1kg 3~5미\n",
      "2022년 햇꽃게 신안군 가을 제철 꽃게 급냉\n",
      "청도반시 제철 고당도 씨없는 감 연시 홍시 5kg\n",
      "서해안 제철 꽃게 2Kg/3Kg 봄 가을 활 꽃게 냉동 생물 게 시세\n",
      "서해 태안 신진도 자연산 봄 가을 활 햇 꽃게 암꽃게 숫꽃게 택배 톱밥 시세\n"
     ]
    }
   ],
   "source": [
    "data = bs.findAll(class_='basicList_link__JLQJf')\n",
    "for d in data:\n",
    "    print(d.string)"
   ]
  },
  {
   "cell_type": "code",
   "execution_count": 61,
   "id": "44b0bcc3",
   "metadata": {},
   "outputs": [
    {
     "name": "stdout",
     "output_type": "stream",
     "text": [
      "산지직송 제철 가을 활꽃게 1kg 3~5미\n",
      "2022년 햇꽃게 신안군 가을 제철 꽃게 급냉\n",
      "청도반시 제철 고당도 씨없는 감 연시 홍시 5kg\n",
      "서해안 제철 꽃게 2Kg/3Kg 봄 가을 활 꽃게 냉동 생물 게 시세\n",
      "서해 태안 신진도 자연산 봄 가을 활 햇 꽃게 암꽃게 숫꽃게 택배 톱밥 시세\n"
     ]
    }
   ],
   "source": [
    "data = bs.select('div.basicList_title__VfX3c')\n",
    "for d in data:\n",
    "    print(d.string)"
   ]
  },
  {
   "cell_type": "code",
   "execution_count": 63,
   "id": "a1d1f5a3",
   "metadata": {},
   "outputs": [
    {
     "name": "stdout",
     "output_type": "stream",
     "text": [
      "산지직송 제철 가을 활꽃게 1kg 3~5미\n"
     ]
    }
   ],
   "source": [
    "data = bs.select_one('div.basicList_title__VfX3c')\n",
    "for d in data:\n",
    "    print(d.string)"
   ]
  },
  {
   "cell_type": "code",
   "execution_count": 104,
   "id": "b00fd6a6",
   "metadata": {},
   "outputs": [],
   "source": [
    "url = 'https://ko.wikipedia.org/wiki/%ED%8C%8C%EC%9D%B4%EC%8D%AC'\n",
    "html = urlopen(url)\n",
    "bs = BeautifulSoup(html, 'html.parser',from_encoding='utf-8')"
   ]
  },
  {
   "cell_type": "code",
   "execution_count": 86,
   "id": "da10a188",
   "metadata": {},
   "outputs": [
    {
     "name": "stdout",
     "output_type": "stream",
     "text": [
      "/wiki/%EC%98%81%EC%96%B4\n",
      "/wiki/1991%EB%85%84\n",
      "/wiki/%ED%94%84%EB%A1%9C%EA%B7%B8%EB%9E%98%EB%A8%B8\n",
      "/wiki/%EA%B7%80%EB%8F%84_%EB%B0%98_%EB%A1%9C%EC%84%AC\n",
      "/wiki/%ED%94%84%EB%A1%9C%EA%B7%B8%EB%9E%98%EB%B0%8D_%EC%96%B8%EC%96%B4\n",
      "/wiki/%EC%9D%B8%ED%84%B0%ED%94%84%EB%A6%AC%ED%84%B0\n",
      "/wiki/%EA%B0%9D%EC%B2%B4%EC%A7%80%ED%96%A5\n",
      "/wiki/%EB%8F%99%EC%A0%81_%ED%83%80%EC%9D%B4%ED%95%91\n",
      "/wiki/%ED%94%BC%ED%86%A4\n"
     ]
    }
   ],
   "source": [
    "data = bs.select('#mw-content-text > div.mw-parser-output > p:nth-child(4)')\n",
    "for d in data:\n",
    "    tag_a = d.findAll('a')\n",
    "    for t in tag_a:\n",
    "        if t['href'][0] != '#':\n",
    "            print(t['href'])"
   ]
  },
  {
   "cell_type": "code",
   "execution_count": 144,
   "id": "1c5d39e6",
   "metadata": {},
   "outputs": [
    {
     "name": "stdout",
     "output_type": "stream",
     "text": [
      "영어 = /wiki/영어\n",
      "1991년 = /wiki/1991년\n",
      "프로그래머 = /wiki/프로그래머\n",
      "귀도 반 로섬 = /wiki/귀도_반_로섬\n",
      "프로그래밍 언어 = /wiki/프로그래밍_언어\n",
      "인터프리터 = /wiki/인터프리터\n",
      "객체지향 = /wiki/객체지향\n",
      "동적 타이핑 = /wiki/동적_타이핑\n",
      "피톤 = /wiki/피톤\n",
      "파이썬 소프트웨어 재단 = /wiki/파이썬_소프트웨어_재단\n",
      "C언어 = /wiki/C언어\n",
      "사이썬 = /wiki/사이썬\n"
     ]
    }
   ],
   "source": [
    "from urllib import parse\n",
    "for i in range(4,7):\n",
    "    data = bs.select_one('#mw-content-text > div.mw-parser-output > p:nth-child('+str(i)+')')\n",
    "    temp = data.findAll('a')\n",
    "    for t in temp:\n",
    "        if t['href'][0] != '#':\n",
    "            print(t['title'],'=',parse.unquote(t['href']))\n",
    "            "
   ]
  }
 ],
 "metadata": {
  "kernelspec": {
   "display_name": "Python 3 (ipykernel)",
   "language": "python",
   "name": "python3"
  },
  "language_info": {
   "codemirror_mode": {
    "name": "ipython",
    "version": 3
   },
   "file_extension": ".py",
   "mimetype": "text/x-python",
   "name": "python",
   "nbconvert_exporter": "python",
   "pygments_lexer": "ipython3",
   "version": "3.9.12"
  }
 },
 "nbformat": 4,
 "nbformat_minor": 5
}
