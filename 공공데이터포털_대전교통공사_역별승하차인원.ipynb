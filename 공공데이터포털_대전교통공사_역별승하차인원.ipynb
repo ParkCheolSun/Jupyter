{
 "cells": [
  {
   "cell_type": "code",
   "execution_count": 3,
   "id": "3112590e",
   "metadata": {},
   "outputs": [],
   "source": [
    "from selenium import webdriver\n",
    "from selenium.webdriver.common.keys import Keys\n",
    "from selenium.webdriver.common.by import By\n",
    "import time\n",
    "import re\n",
    "from bs4 import BeautifulSoup\n",
    "import requests\n",
    "from urllib.request import urlopen"
   ]
  },
  {
   "cell_type": "code",
   "execution_count": 4,
   "id": "c7f4c0f8",
   "metadata": {},
   "outputs": [
    {
     "name": "stdout",
     "output_type": "stream",
     "text": [
      "<?xml version=\"1.0\" encoding=\"utf-8\"?>\n",
      "<response><header><resultCode>99</resultCode><resultMsg>SERVICE KEY IS NOT REGISTERED ERROR.</resultMsg></header></response>\n"
     ]
    }
   ],
   "source": [
    "serviceKey = 'JSuVo37V02l8BfQMlTrWZQuPLcNmmgGpeXEewVIeRi2Ajw7X4hKDDWx0DbsTQU90sT1brQ0ZwTO8yM/WWIv7Rw=='\n",
    "startDate = '20220919'\n",
    "endDate = '20220919'\n",
    "\n",
    "url = 'http://www.djtc.kr/OpenAPI/service/StationPassengerSVC/getStationPassenger'\n",
    "url_f = f'http://www.djtc.kr/OpenAPI/service/StationPassengerSVC/getStationPassenger?serviceKey={serviceKey}&startDate={startDate}&endDate={endDate}'\n",
    "\n",
    "params ={'serviceKey' : {serviceKey}, 'startDate' : {startDate}, 'endDate' : {endDate} }\n",
    "\n",
    "#response = requests.get(url, params=params)\n",
    "#print(response.content)\n",
    "result = urlopen(url_f)\n",
    "bs = BeautifulSoup(result,'lxml-xml')\n",
    "print(bs)\n",
    "item = bs.find_all('item')\n",
    "for i in item:\n",
    "    print(i)\n",
    "    print(i.find('stationNo').string)\n",
    "    print(i.find('entryFlag').string)\n",
    "    for k in i.find_all(re.compile('cnt_\\d')):\n",
    "        print(k.string,end=' ')\n",
    "    print()"
   ]
  }
 ],
 "metadata": {
  "kernelspec": {
   "display_name": "Python 3 (ipykernel)",
   "language": "python",
   "name": "python3"
  },
  "language_info": {
   "codemirror_mode": {
    "name": "ipython",
    "version": 3
   },
   "file_extension": ".py",
   "mimetype": "text/x-python",
   "name": "python",
   "nbconvert_exporter": "python",
   "pygments_lexer": "ipython3",
   "version": "3.9.12"
  }
 },
 "nbformat": 4,
 "nbformat_minor": 5
}
