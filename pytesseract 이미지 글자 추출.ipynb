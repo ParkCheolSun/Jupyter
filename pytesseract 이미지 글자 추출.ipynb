{
 "cells": [
  {
   "cell_type": "code",
   "execution_count": 2,
   "id": "bc09f8b2",
   "metadata": {},
   "outputs": [
    {
     "name": "stdout",
     "output_type": "stream",
     "text": [
      "Collecting pytesseract\n",
      "  Downloading pytesseract-0.3.10-py3-none-any.whl (14 kB)\n",
      "Requirement already satisfied: Pillow>=8.0.0 in c:\\anaconda3\\lib\\site-packages (from pytesseract) (9.0.1)\n",
      "Requirement already satisfied: packaging>=21.3 in c:\\anaconda3\\lib\\site-packages (from pytesseract) (21.3)\n",
      "Requirement already satisfied: pyparsing!=3.0.5,>=2.0.2 in c:\\anaconda3\\lib\\site-packages (from packaging>=21.3->pytesseract) (3.0.4)\n",
      "Installing collected packages: pytesseract\n",
      "Successfully installed pytesseract-0.3.10\n"
     ]
    }
   ],
   "source": [
    "!pip install pytesseract"
   ]
  },
  {
   "cell_type": "code",
   "execution_count": 10,
   "id": "c49d37d8",
   "metadata": {},
   "outputs": [
    {
     "name": "stdout",
     "output_type": "stream",
     "text": [
      "['편집]', '', '~6. 심리학 실험', '', '분', '', '=', '', '어린아이에게 마시멜로 174', '', '를 주고 15:', '', '를', '', '주', '', '분 동', '', '안 먹지 않고 참으면 2개를 주기로 했을 때, 먹지 않고 참아서 2개', '', '를 받은 이', '', '를 받은', '', '이들이 커서 그렇지 않았던 아', '', '이들 보다 더', '', '훌륭히', '', '훌륭히', '', 'tA 되었다는 심리학 실험인 \"마시멜로 이야기\"가 있다. 미국에서 이 실험에 참가한 호아킨 데 포사다는 같은 이름의 자기계발서도', '', '냈다. 하지만 이 실험에 대해서 논란이', '', '많은', '', 'Be', '', '의 홀', '', '의롤', '', '데. 이를테면 2013년 로체스터 대학교:', '', '리 팔메리와 리처드 SES 1B <Cognition>o \"Rational 508', '', '들 중 일부는 참을:', '', '00000\"이라는 제목으로 발표한 논문에서 이 연구 결과에 대해 의구심을 표하며 A 번째 마시멜로를 빨리 먹은 아이', '', '를', '', '=', '', '일부는 참을', '', '성이 부족했던 것', '', '이 아니라, \\'나중에 돌아오면 하나를 더 주겠다\\'는 연구원의 SS 의심했기 때문\"이라고 한다', '', '그들은 \"불안', '', '들은 \"불안:', '', '정한 환경에서 자란 아이', '', \"들은 '먹는\", '', \"들은 '덕는\", '', '컷이 남', '', \"는 것'이라\", '', '는 생각을 갖:', '', '샘각을 갖', '', '게 된다', '', '\"는 말을 남', '', '는 말을 남', '', '기며, \"안정적인 환경에서 자란 아이', '', '들일수', '', '들일수록', '', '록 약속이 지켜질 것이라고 기대하며 좀 더 오래 기다리는', '', '향이', '', '있다\"라고 SAAC', '']\n"
     ]
    }
   ],
   "source": [
    "from PIL import Image\n",
    "import pytesseract\n",
    "\n",
    "pytesseract.pytesseract.tesseract_cmd = R'C:\\Program Files\\Tesseract-OCR\\tesseract.exe'\n",
    "config = ('-l kor+eng --oem 3 --psm 11')\n",
    "text = pytesseract.image_to_string(Image.open('text_image.jpg'), config=config)\n",
    "print(text.split('\\n'))"
   ]
  },
  {
   "cell_type": "code",
   "execution_count": 38,
   "id": "ca841477",
   "metadata": {},
   "outputs": [],
   "source": [
    "def cleanFile(filePath, newFilePath):\n",
    "    image = Image.open(filePath)\n",
    "    image = image.point(lambda x: 0 if x<235 else 255)\n",
    "    image.save(newFilePath)\n",
    "    return image"
   ]
  },
  {
   "cell_type": "code",
   "execution_count": 39,
   "id": "a19cfe60",
   "metadata": {},
   "outputs": [
    {
     "name": "stdout",
     "output_type": "stream",
     "text": [
      "~:  심리학 실험  머린아이에게 마시멜로+개를 주고 15분 Seba 않고 참으편 2게를 추기로 했을 때,:먹져 않고 첨아서 2개를 받은 아이들이 커서 그렇자 않았던 아  미들 보다 더 SSH 되었다는 Aare 실형인 \"마시멜로 익야기“  있다. 미국에서 이 실혐에 참가한 SOFA 데 포사다는 같은 이름의 자기계발서도  냈다 하제  만 여 설혐에 대해서 eto] BEET, 이를테면 2018년  는 체목으로 발표한 논문예서 이 던구 결과메 대해 의구심을 표하며 A 번째 마시멜로를 빨리 fe 아이들 중 밀부는 참을성이 부:  체스터 eB 졸리 팔메리와 러쳐드매슬린은 1월 <Cogntion-—] \"Rational Spa  것  이담  위 아니라; '나중메 돌아오면 하나를 더 SACS 연구원의 맡을 의심했키 때문\"이라고 한다. 그들은 “불안정한 SAMA Ae oss  각를 갖:  는 것'아라는 생:  각을 2b  케 된다\"는 말을 남기며, *만정척인 환경에서 자란 하이들일수록 약속아 지켜절 것이라고 기대하며 좀더 오래 기타:  경향이  있다\"라고 aC \n"
     ]
    }
   ],
   "source": [
    "image = cleanFile('./text_image.jpg','./text_image_fix.jpg')\n",
    "print(pytesseract.image_to_string(image,config=config).replace('\\n',' '))"
   ]
  },
  {
   "cell_type": "code",
   "execution_count": 25,
   "id": "723d6a85",
   "metadata": {},
   "outputs": [
    {
     "name": "stdout",
     "output_type": "stream",
     "text": [
      "['나웃배과 “Yt', '', 'he Ubu', '', 'oe 행인', '', 'Ste See te 것불습니다,', '', 'Oe BE Re bbe,', '', 'Ue ate ted ah dub Ott tee dated,', '', '단양 알인이 OM 2999 de ade ae ee 보내 ty', '', 'toh) te aed,', '', 'Re 근단 Wt deo) 레오 de ola 204,', '', '2 eb) He) aa ate hk.', '', 'he ME AU Ooh 아아 heh,', '', 'oe Uy', '', 'de ed', '', 'Bare', '', 'a eg', '', '==', '']\n"
     ]
    }
   ],
   "source": [
    "image = cleanFile('./text_image2.jpg','./text_image_fix2.jpg')\n",
    "print(pytesseract.image_to_string(image,config=config).split('\\n'))"
   ]
  }
 ],
 "metadata": {
  "kernelspec": {
   "display_name": "Python 3 (ipykernel)",
   "language": "python",
   "name": "python3"
  },
  "language_info": {
   "codemirror_mode": {
    "name": "ipython",
    "version": 3
   },
   "file_extension": ".py",
   "mimetype": "text/x-python",
   "name": "python",
   "nbconvert_exporter": "python",
   "pygments_lexer": "ipython3",
   "version": "3.9.12"
  }
 },
 "nbformat": 4,
 "nbformat_minor": 5
}
