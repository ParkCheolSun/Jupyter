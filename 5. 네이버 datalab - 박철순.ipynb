{
 "cells": [
  {
   "cell_type": "markdown",
   "id": "b224e96b",
   "metadata": {},
   "source": [
    "# 5. 네이버 datalab - 박철순"
   ]
  },
  {
   "cell_type": "code",
   "execution_count": 2,
   "id": "d51f7bac",
   "metadata": {},
   "outputs": [],
   "source": [
    "from selenium import webdriver\n",
    "from selenium.webdriver.common.keys import Keys\n",
    "from selenium.webdriver.common.by import By\n",
    "import time"
   ]
  },
  {
   "cell_type": "code",
   "execution_count": 4,
   "id": "c206de93",
   "metadata": {},
   "outputs": [
    {
     "name": "stderr",
     "output_type": "stream",
     "text": [
      "C:\\Users\\big303\\AppData\\Local\\Temp\\ipykernel_13624\\3473319727.py:1: DeprecationWarning: executable_path has been deprecated, please pass in a Service object\n",
      "  driver = webdriver.Chrome(executable_path='./chromedriver.exe')\n"
     ]
    }
   ],
   "source": [
    "driver = webdriver.Chrome(executable_path='./chromedriver.exe')\n",
    "url = 'https://datalab.naver.com/'\n",
    "driver.get(url)\n",
    "time.sleep(3)\n",
    "\n",
    "driver.find_element(By.XPATH,r'//*[@id=\"item_keyword1\"]').send_keys('빅데이터')\n",
    "time.sleep(2)\n",
    "driver.find_element(By.XPATH,r'//*[@id=\"content\"]/div[2]/div[3]/div/div/form/fieldset/div/div[6]/div[1]/label[3]').click()\n",
    "time.sleep(1)\n",
    "driver.find_element(By.XPATH,r'//*[@id=\"item_device_0\"]').click()\n",
    "time.sleep(1)\n",
    "driver.find_element(By.XPATH,r'//*[@id=\"item_gender_0\"]').click()\n",
    "time.sleep(1)\n",
    "driver.find_element(By.XPATH,r'//*[@id=\"item_age_0\"]').click()\n",
    "time.sleep(1)\n",
    "driver.find_element(By.XPATH,r'//*[@id=\"content\"]/div[2]/div[3]/div/div/form/fieldset/a/span').click()\n",
    "time.sleep(3)\n",
    "driver.find_element(By.XPATH,r'//*[@id=\"content\"]/div[1]/div[1]/div[1]/div/div/div/div/div/div[1]/div[4]/a').click()\n",
    "time.sleep(5)\n",
    "\n",
    "driver.close()"
   ]
  }
 ],
 "metadata": {
  "kernelspec": {
   "display_name": "Python 3 (ipykernel)",
   "language": "python",
   "name": "python3"
  },
  "language_info": {
   "codemirror_mode": {
    "name": "ipython",
    "version": 3
   },
   "file_extension": ".py",
   "mimetype": "text/x-python",
   "name": "python",
   "nbconvert_exporter": "python",
   "pygments_lexer": "ipython3",
   "version": "3.9.12"
  }
 },
 "nbformat": 4,
 "nbformat_minor": 5
}
