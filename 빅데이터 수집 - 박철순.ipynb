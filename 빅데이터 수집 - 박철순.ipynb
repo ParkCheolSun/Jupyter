{
 "cells": [
  {
   "cell_type": "markdown",
   "id": "a8ef3066",
   "metadata": {},
   "source": [
    "# 빅데이터 수집 - 박철순"
   ]
  },
  {
   "cell_type": "code",
   "execution_count": 5,
   "id": "51675760",
   "metadata": {},
   "outputs": [],
   "source": [
    "# 공통 라이브러리\n",
    "from selenium import webdriver\n",
    "from selenium.webdriver.common.keys import Keys\n",
    "from selenium.webdriver.common.by import By\n",
    "import time\n",
    "import re\n",
    "import pandas as pd"
   ]
  },
  {
   "cell_type": "markdown",
   "id": "fb947417",
   "metadata": {},
   "source": [
    "## 1. 위키피디아 검색"
   ]
  },
  {
   "cell_type": "code",
   "execution_count": 7,
   "id": "68ad77b8",
   "metadata": {},
   "outputs": [
    {
     "name": "stderr",
     "output_type": "stream",
     "text": [
      "C:\\Users\\big303\\AppData\\Local\\Temp\\ipykernel_13412\\203961889.py:1: DeprecationWarning: executable_path has been deprecated, please pass in a Service object\n",
      "  driver = webdriver.Chrome(executable_path='./chromedriver.exe')\n"
     ]
    },
    {
     "name": "stdout",
     "output_type": "stream",
     "text": [
      "빅 데이터는 통상적으로 사용되는 데이터 수집, 관리 및 처리 소프트웨어의 수용 한계를 넘어서는 크기의 데이터를 말한다.[5] 빅 데이터의 사이즈는 단일 데이터 집합의 크기가 수십 테라바이트에서 수 페타바이트에 이르며, 그 크기가 끊임없이 변화하는 것이 특징이다. 빅데이터라는 용어는 1990년대부터 사용되어 왔으며, 존 매쉬가 이 용어를 대중화하였다[6][7].\n"
     ]
    }
   ],
   "source": [
    "driver = webdriver.Chrome(executable_path='./chromedriver.exe')\n",
    "driver.execute_cdp_cmd(\"Page.addScriptToEvaluateOnNewDocument\", {\"source\": \"\"\" Object.defineProperty(navigator, 'webdriver', { get: () => undefined }) \"\"\"})\n",
    "url = 'https://www.wikipedia.org/'\n",
    "driver.get(url)\n",
    "time.sleep(4)\n",
    "\n",
    "driver.find_element(By.XPATH,r'//*[@id=\"searchInput\"]').send_keys('빅데이터')\n",
    "driver.find_element(By.XPATH,r'//*[@id=\"search-form\"]/fieldset/button/i').click()\n",
    "time.sleep(2)\n",
    "content = driver.find_element(By.XPATH,r'//*[@id=\"mw-content-text\"]/div[1]/p[6]')\n",
    "\n",
    "print(content.text)\n",
    "time.sleep(1)\n",
    "driver.close()"
   ]
  },
  {
   "cell_type": "markdown",
   "id": "2483b3dd",
   "metadata": {},
   "source": [
    "## 2. 국민동의청원 - 박철순"
   ]
  },
  {
   "cell_type": "code",
   "execution_count": 9,
   "id": "3dc639e6",
   "metadata": {},
   "outputs": [
    {
     "name": "stderr",
     "output_type": "stream",
     "text": [
      "C:\\Users\\big303\\AppData\\Local\\Temp\\ipykernel_13412\\3185264355.py:1: DeprecationWarning: executable_path has been deprecated, please pass in a Service object\n",
      "  driver = webdriver.Chrome(executable_path='./chromedriver.exe')\n"
     ]
    }
   ],
   "source": [
    "driver = webdriver.Chrome(executable_path='./chromedriver.exe')\n",
    "url = 'https://petitions.assembly.go.kr/'\n",
    "driver.get(url)\n",
    "time.sleep(3)\n",
    "driver.find_element(By.XPATH,r'//*[@id=\"contentsbody\"]/section[1]/div[1]/div[2]/div/div/article[1]/div/a/dl/dt/span[2]').click()\n",
    "time.sleep(3)\n",
    "title = driver.find_element(By.XPATH,r'//*[@id=\"contentsbody\"]/div/div/div[3]/div[2]/dl[2]/dd').text\n",
    "content = driver.find_element(By.XPATH,r'//*[@id=\"contentsbody\"]/div/div/div[3]/div[2]/dl[3]/dd').text\n",
    "\n",
    "file = open('국민동의.txt','w',encoding='utf-8')\n",
    "file.write('제목 : '+ title)\n",
    "file.write('\\n내용 : '+ content)\n",
    "file.close\n",
    "\n",
    "time.sleep(2)\n",
    "driver.close()"
   ]
  },
  {
   "cell_type": "markdown",
   "id": "1486408d",
   "metadata": {},
   "source": [
    "## 3. 주유소 휘발유 가격 - 박철순"
   ]
  },
  {
   "cell_type": "code",
   "execution_count": 14,
   "id": "4142629a",
   "metadata": {},
   "outputs": [
    {
     "name": "stderr",
     "output_type": "stream",
     "text": [
      "C:\\Users\\big303\\AppData\\Local\\Temp\\ipykernel_13412\\2197887192.py:1: DeprecationWarning: executable_path has been deprecated, please pass in a Service object\n",
      "  driver = webdriver.Chrome(executable_path='./chromedriver.exe')\n"
     ]
    }
   ],
   "source": [
    "driver = webdriver.Chrome(executable_path='./chromedriver.exe')\n",
    "url = 'https://www.opinet.co.kr/user/main/mainView.do'\n",
    "driver.get(url)\n",
    "time.sleep(3)\n",
    "driver.find_element(By.XPATH,r'//*[@id=\"quick_ul\"]/li[2]/a').click()\n",
    "time.sleep(3)\n",
    "driver.find_element(By.XPATH,r'//*[@id=\"SIDO_NM0\"]/option[7]').click()\n",
    "time.sleep(1)\n",
    "driver.find_element(By.XPATH,r'//*[@id=\"SIGUNGU_NM0\"]/option[4]').click()\n",
    "time.sleep(1)\n",
    "driver.find_element(By.XPATH,r'//*[@id=\"searRgSelect\"]/span').click()\n",
    "time.sleep(2)\n",
    "driver.find_element(By.XPATH,r'//*[@id=\"os_layer2\"]/p/a').click()\n",
    "time.sleep(2)\n",
    "\n",
    "# 전체 데이터 저장\n",
    "driver.find_element(By.XPATH,r'//*[@id=\"glopopd_excel\"]/span').click()\n",
    "time.sleep(3)\n",
    "\n",
    "# 보통휘발유만 저장\n",
    "opnet_lists = []\n",
    "for i in range(1,42):\n",
    "    op_name = driver.find_element(By.XPATH,r'//*[@id=\"body1\"]/tr['+str(i)+']/td[1]/a').text\n",
    "    op_soil = driver.find_element(By.XPATH,r'//*[@id=\"body1\"]/tr['+str(i)+']/td[3]').text\n",
    "    op_list = []\n",
    "    op_list.append(op_name)\n",
    "    op_list.append(op_soil)\n",
    "    opnet_lists.append(op_list)\n",
    "df = pd.DataFrame.from_records(opnet_lists)\n",
    "df.to_excel('opnet_data.xlsx',sheet_name='opnet_data')\n",
    "\n",
    "\n",
    "driver.close()"
   ]
  },
  {
   "cell_type": "markdown",
   "id": "367af446",
   "metadata": {},
   "source": [
    "## 4. 기상청 월별 최고기온 검색&저장"
   ]
  },
  {
   "cell_type": "code",
   "execution_count": 12,
   "id": "5b33fba9",
   "metadata": {},
   "outputs": [
    {
     "name": "stderr",
     "output_type": "stream",
     "text": [
      "C:\\Users\\big303\\AppData\\Local\\Temp\\ipykernel_13412\\3859382996.py:1: DeprecationWarning: executable_path has been deprecated, please pass in a Service object\n",
      "  driver = webdriver.Chrome(executable_path='./chromedriver.exe')\n"
     ]
    }
   ],
   "source": [
    "driver = webdriver.Chrome(executable_path='./chromedriver.exe')\n",
    "url = 'https://data.kma.go.kr/data/grnd/selectAsosRltmList.do?pgmNo=36'\n",
    "driver.get(url)\n",
    "time.sleep(3)\n",
    "\n",
    "driver.find_element(By.XPATH,r'//*[@id=\"wrap_content\"]/div[2]/ul/li[1]/a').click()\n",
    "time.sleep(2)\n",
    "driver.find_element(By.XPATH,r'//*[@id=\"dataFormCd\"]/option[3]').click()\n",
    "time.sleep(1)\n",
    "driver.find_element(By.XPATH,r'//*[@id=\"startDt_y\"]/option[4]').click()\n",
    "time.sleep(1)\n",
    "driver.find_element(By.XPATH,r'//*[@id=\"startMt\"]/option[1]').click()\n",
    "time.sleep(1)\n",
    "driver.find_element(By.XPATH,r'//*[@id=\"endDt_y\"]/option[2]').click()\n",
    "time.sleep(1)\n",
    "driver.find_element(By.XPATH,r'//*[@id=\"endMt\"]/option[12]').click()\n",
    "time.sleep(1)\n",
    "\n",
    "driver.find_element(By.XPATH,r'//*[@id=\"ztree_59_check\"]').click()\n",
    "time.sleep(1)\n",
    "driver.find_element(By.XPATH,r'//*[@id=\"ztree1_46_check\"]').click()\n",
    "time.sleep(1)\n",
    "driver.find_element(By.XPATH,r'//*[@id=\"dsForm\"]/div[3]/button').click()\n",
    "time.sleep(3)\n",
    "driver.find_element(By.XPATH,r'//*[@id=\"wrap_content\"]/div[4]/div[1]/div/a[1]').click()\n",
    "time.sleep(3)\n",
    "driver.find_element(By.XPATH,r'//*[@id=\"wrap-datapop\"]/div/div[2]/div[1]/div/a').click()\n",
    "time.sleep(5)\n",
    "\n",
    "driver.close()"
   ]
  },
  {
   "cell_type": "markdown",
   "id": "c8e4e47d",
   "metadata": {},
   "source": [
    "## 5. 네이버 datalab - 박철순"
   ]
  },
  {
   "cell_type": "code",
   "execution_count": 13,
   "id": "4ef52d8f",
   "metadata": {},
   "outputs": [
    {
     "name": "stderr",
     "output_type": "stream",
     "text": [
      "C:\\Users\\big303\\AppData\\Local\\Temp\\ipykernel_13412\\3473319727.py:1: DeprecationWarning: executable_path has been deprecated, please pass in a Service object\n",
      "  driver = webdriver.Chrome(executable_path='./chromedriver.exe')\n"
     ]
    }
   ],
   "source": [
    "driver = webdriver.Chrome(executable_path='./chromedriver.exe')\n",
    "url = 'https://datalab.naver.com/'\n",
    "driver.get(url)\n",
    "time.sleep(3)\n",
    "\n",
    "driver.find_element(By.XPATH,r'//*[@id=\"item_keyword1\"]').send_keys('빅데이터')\n",
    "time.sleep(2)\n",
    "driver.find_element(By.XPATH,r'//*[@id=\"content\"]/div[2]/div[3]/div/div/form/fieldset/div/div[6]/div[1]/label[3]').click()\n",
    "time.sleep(1)\n",
    "driver.find_element(By.XPATH,r'//*[@id=\"item_device_0\"]').click()\n",
    "time.sleep(1)\n",
    "driver.find_element(By.XPATH,r'//*[@id=\"item_gender_0\"]').click()\n",
    "time.sleep(1)\n",
    "driver.find_element(By.XPATH,r'//*[@id=\"item_age_0\"]').click()\n",
    "time.sleep(1)\n",
    "driver.find_element(By.XPATH,r'//*[@id=\"content\"]/div[2]/div[3]/div/div/form/fieldset/a/span').click()\n",
    "time.sleep(3)\n",
    "driver.find_element(By.XPATH,r'//*[@id=\"content\"]/div[1]/div[1]/div[1]/div/div/div/div/div/div[1]/div[4]/a').click()\n",
    "time.sleep(5)\n",
    "\n",
    "driver.close()"
   ]
  }
 ],
 "metadata": {
  "kernelspec": {
   "display_name": "Python 3 (ipykernel)",
   "language": "python",
   "name": "python3"
  },
  "language_info": {
   "codemirror_mode": {
    "name": "ipython",
    "version": 3
   },
   "file_extension": ".py",
   "mimetype": "text/x-python",
   "name": "python",
   "nbconvert_exporter": "python",
   "pygments_lexer": "ipython3",
   "version": "3.9.12"
  }
 },
 "nbformat": 4,
 "nbformat_minor": 5
}
