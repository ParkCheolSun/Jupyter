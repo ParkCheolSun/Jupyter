{
 "cells": [
  {
   "cell_type": "code",
   "execution_count": 2,
   "id": "3c861d09",
   "metadata": {},
   "outputs": [],
   "source": [
    "from urllib.request import urlopen\n",
    "from bs4 import BeautifulSoup\n",
    "import re"
   ]
  },
  {
   "cell_type": "code",
   "execution_count": 3,
   "id": "63cfe29b",
   "metadata": {},
   "outputs": [
    {
     "name": "stdout",
     "output_type": "stream",
     "text": [
      "알려진 이슈를 안내해 드립니다. (9/14 수정)\n",
      "악성코드 감염 예방을 위한 보안 수칙 안내\n",
      "모험가 여러분의 계정 보호를 위한 안내\n",
      "9월 14일(수) 로스트아크 정기 점검 완료 안내\n",
      "9월 28일(수) 티어 3 초반 구간 완화 예정사항 안내\n",
      "9월 14일 신규 캐릭터 생성 가능 수치 적용 안내\n",
      "알려진 이슈를 안내해 드립니다. (9/14 수정)\n",
      "9월 14일(수) 정기 점검 안내\n",
      "9월 8일(목) 로스트아크 임시 점검 완료 안내\n",
      "9월 8일(목) 로스트아크 임시 점검 안내\n",
      "9월 7일(수) 클라이언트 패치 안내\n",
      "9월 7일(수) 신규 상품 및 확률 안내\n",
      "9월 7일 신규 캐릭터 생성 가능 수치 적용 안내\n",
      "9월 7일(수) 업데이트 내역 안내\n",
      "9월 7일(수) 정기 점검 안내\n",
      "오션월드 경품 응모권 교환 이벤트의 당첨자를 발표합니다! (2차)\n",
      "8월 31일(수) 업데이트 내역 안내\n",
      "8월 31일(수) 신규 상품 및 확률 안내\n"
     ]
    }
   ],
   "source": [
    "url = 'https://lostark.game.onstove.com/News/Notice/List'\n",
    "html = urlopen(url)\n",
    "bs = BeautifulSoup(html.read(), 'html.parser')\n",
    "title = bs.findAll(class_='list__title')\n",
    "for t in title:\n",
    "    print(t.string)"
   ]
  },
  {
   "cell_type": "code",
   "execution_count": null,
   "id": "2b8692d1",
   "metadata": {},
   "outputs": [],
   "source": []
  }
 ],
 "metadata": {
  "kernelspec": {
   "display_name": "Python 3 (ipykernel)",
   "language": "python",
   "name": "python3"
  },
  "language_info": {
   "codemirror_mode": {
    "name": "ipython",
    "version": 3
   },
   "file_extension": ".py",
   "mimetype": "text/x-python",
   "name": "python",
   "nbconvert_exporter": "python",
   "pygments_lexer": "ipython3",
   "version": "3.9.12"
  }
 },
 "nbformat": 4,
 "nbformat_minor": 5
}
