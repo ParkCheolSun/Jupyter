{
 "cells": [
  {
   "cell_type": "markdown",
   "id": "5264f471",
   "metadata": {},
   "source": [
    "# 4. 기상청 월별 최고기온 검색&저장 - 박철순"
   ]
  },
  {
   "cell_type": "code",
   "execution_count": 1,
   "id": "1886d4d7",
   "metadata": {},
   "outputs": [],
   "source": [
    "from selenium import webdriver\n",
    "from selenium.webdriver.common.keys import Keys\n",
    "from selenium.webdriver.common.by import By\n",
    "import time"
   ]
  },
  {
   "cell_type": "code",
   "execution_count": 5,
   "id": "ab893263",
   "metadata": {},
   "outputs": [
    {
     "name": "stderr",
     "output_type": "stream",
     "text": [
      "C:\\Users\\big303\\AppData\\Local\\Temp\\ipykernel_15252\\3859382996.py:1: DeprecationWarning: executable_path has been deprecated, please pass in a Service object\n",
      "  driver = webdriver.Chrome(executable_path='./chromedriver.exe')\n"
     ]
    }
   ],
   "source": [
    "driver = webdriver.Chrome(executable_path='./chromedriver.exe')\n",
    "url = 'https://data.kma.go.kr/data/grnd/selectAsosRltmList.do?pgmNo=36'\n",
    "driver.get(url)\n",
    "time.sleep(3)\n",
    "\n",
    "driver.find_element(By.XPATH,r'//*[@id=\"wrap_content\"]/div[2]/ul/li[1]/a').click()\n",
    "time.sleep(2)\n",
    "driver.find_element(By.XPATH,r'//*[@id=\"dataFormCd\"]/option[3]').click()\n",
    "time.sleep(1)\n",
    "driver.find_element(By.XPATH,r'//*[@id=\"startDt_y\"]/option[4]').click()\n",
    "time.sleep(1)\n",
    "driver.find_element(By.XPATH,r'//*[@id=\"startMt\"]/option[1]').click()\n",
    "time.sleep(1)\n",
    "driver.find_element(By.XPATH,r'//*[@id=\"endDt_y\"]/option[2]').click()\n",
    "time.sleep(1)\n",
    "driver.find_element(By.XPATH,r'//*[@id=\"endMt\"]/option[12]').click()\n",
    "time.sleep(1)\n",
    "\n",
    "driver.find_element(By.XPATH,r'//*[@id=\"ztree_59_check\"]').click()\n",
    "time.sleep(1)\n",
    "driver.find_element(By.XPATH,r'//*[@id=\"ztree1_46_check\"]').click()\n",
    "time.sleep(1)\n",
    "driver.find_element(By.XPATH,r'//*[@id=\"dsForm\"]/div[3]/button').click()\n",
    "time.sleep(3)\n",
    "driver.find_element(By.XPATH,r'//*[@id=\"wrap_content\"]/div[4]/div[1]/div/a[1]').click()\n",
    "time.sleep(3)\n",
    "driver.find_element(By.XPATH,r'//*[@id=\"wrap-datapop\"]/div/div[2]/div[1]/div/a').click()\n",
    "time.sleep(5)\n",
    "\n",
    "driver.close()"
   ]
  }
 ],
 "metadata": {
  "kernelspec": {
   "display_name": "Python 3 (ipykernel)",
   "language": "python",
   "name": "python3"
  },
  "language_info": {
   "codemirror_mode": {
    "name": "ipython",
    "version": 3
   },
   "file_extension": ".py",
   "mimetype": "text/x-python",
   "name": "python",
   "nbconvert_exporter": "python",
   "pygments_lexer": "ipython3",
   "version": "3.9.12"
  }
 },
 "nbformat": 4,
 "nbformat_minor": 5
}
