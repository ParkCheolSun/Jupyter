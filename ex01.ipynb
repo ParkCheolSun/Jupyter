{
 "cells": [
  {
   "cell_type": "markdown",
   "id": "4b88bd44",
   "metadata": {},
   "source": [
    "# 파이썬 데이터 분석 맛보기\n",
    "## 환경설정\n",
    "### 아나콘다 설치하기\n",
    "아나콘다를 다운로드하여 설치"
   ]
  },
  {
   "cell_type": "code",
   "execution_count": null,
   "id": "5f35679c",
   "metadata": {},
   "outputs": [],
   "source": [
    "아나콘다 설치 후 주피터 시작 작업 폴더 지정은 \n",
    "주피터 실행파일의 위치에서 실행파일 속성을 대상에서\n",
    "'%/PROFILE%'을 지우고 '작업경로'로 지정"
   ]
  },
  {
   "cell_type": "code",
   "execution_count": 5,
   "id": "be02be04",
   "metadata": {},
   "outputs": [
    {
     "name": "stdout",
     "output_type": "stream",
     "text": [
      "Requirement already satisfied: pandas in c:\\anaconda3\\lib\\site-packages (1.4.2)\n",
      "Requirement already satisfied: numpy>=1.18.5 in c:\\anaconda3\\lib\\site-packages (from pandas) (1.21.5)\n",
      "Requirement already satisfied: pytz>=2020.1 in c:\\anaconda3\\lib\\site-packages (from pandas) (2021.3)\n",
      "Requirement already satisfied: python-dateutil>=2.8.1 in c:\\anaconda3\\lib\\site-packages (from pandas) (2.8.2)\n",
      "Requirement already satisfied: six>=1.5 in c:\\anaconda3\\lib\\site-packages (from python-dateutil>=2.8.1->pandas) (1.16.0)\n"
     ]
    }
   ],
   "source": [
    "# 데이터를 테이브령태로 만들어주는 라이브러리\n",
    "!pip install pandas"
   ]
  },
  {
   "cell_type": "code",
   "execution_count": 6,
   "id": "9c869e78",
   "metadata": {},
   "outputs": [
    {
     "name": "stdout",
     "output_type": "stream",
     "text": [
      "Requirement already satisfied: numpy in c:\\anaconda3\\lib\\site-packages (1.21.5)\n"
     ]
    }
   ],
   "source": [
    "!pip install numpy"
   ]
  },
  {
   "cell_type": "code",
   "execution_count": 7,
   "id": "c27ed25d",
   "metadata": {
    "scrolled": true
   },
   "outputs": [
    {
     "name": "stdout",
     "output_type": "stream",
     "text": [
      "Requirement already satisfied: matplotlib in c:\\anaconda3\\lib\\site-packages (3.5.1)\n",
      "Requirement already satisfied: fonttools>=4.22.0 in c:\\anaconda3\\lib\\site-packages (from matplotlib) (4.25.0)\n",
      "Requirement already satisfied: pillow>=6.2.0 in c:\\anaconda3\\lib\\site-packages (from matplotlib) (9.0.1)\n",
      "Requirement already satisfied: kiwisolver>=1.0.1 in c:\\anaconda3\\lib\\site-packages (from matplotlib) (1.3.2)\n",
      "Requirement already satisfied: packaging>=20.0 in c:\\anaconda3\\lib\\site-packages (from matplotlib) (21.3)\n",
      "Requirement already satisfied: python-dateutil>=2.7 in c:\\anaconda3\\lib\\site-packages (from matplotlib) (2.8.2)\n",
      "Requirement already satisfied: pyparsing>=2.2.1 in c:\\anaconda3\\lib\\site-packages (from matplotlib) (3.0.4)\n",
      "Requirement already satisfied: cycler>=0.10 in c:\\anaconda3\\lib\\site-packages (from matplotlib) (0.11.0)\n",
      "Requirement already satisfied: numpy>=1.17 in c:\\anaconda3\\lib\\site-packages (from matplotlib) (1.21.5)\n",
      "Requirement already satisfied: six>=1.5 in c:\\anaconda3\\lib\\site-packages (from python-dateutil>=2.7->matplotlib) (1.16.0)\n"
     ]
    }
   ],
   "source": [
    "!pip install matplotlib"
   ]
  },
  {
   "cell_type": "code",
   "execution_count": 8,
   "id": "fc022a28",
   "metadata": {},
   "outputs": [],
   "source": [
    "import numpy as np\n",
    "import pandas as pd\n",
    "import matplotlib"
   ]
  },
  {
   "cell_type": "code",
   "execution_count": 10,
   "id": "6174f172",
   "metadata": {},
   "outputs": [
    {
     "data": {
      "text/plain": [
       "array([0.16040444, 0.33075592, 0.29455843, 0.35959199, 0.05321386,\n",
       "       0.08766669, 0.64896475, 0.0939643 , 0.54710408, 0.93154729,\n",
       "       0.09203825, 0.88830191, 0.0100038 , 0.76249932, 0.62261553,\n",
       "       0.86832199, 0.68287618, 0.80051804, 0.38669972, 0.44669093,\n",
       "       0.90951078, 0.31373634, 0.77744289, 0.29904218, 0.85007797,\n",
       "       0.72621439, 0.32035133, 0.54095006, 0.94244008, 0.7659404 ,\n",
       "       0.48319287, 0.17964273, 0.13592441, 0.6671506 , 0.14321437,\n",
       "       0.58031185, 0.70306516, 0.1334286 , 0.65600302, 0.39245579,\n",
       "       0.30090102, 0.34048049, 0.12209202, 0.92825674, 0.94302858,\n",
       "       0.77697722, 0.32907947, 0.60212167, 0.0347061 , 0.4648692 ])"
      ]
     },
     "execution_count": 10,
     "metadata": {},
     "output_type": "execute_result"
    }
   ],
   "source": [
    "data = np.random.rand(50)\n",
    "data"
   ]
  },
  {
   "cell_type": "code",
   "execution_count": 14,
   "id": "278ebad1",
   "metadata": {},
   "outputs": [
    {
     "data": {
      "text/plain": [
       "0     0.160404\n",
       "1     0.330756\n",
       "2     0.294558\n",
       "3     0.359592\n",
       "4     0.053214\n",
       "5     0.087667\n",
       "6     0.648965\n",
       "7     0.093964\n",
       "8     0.547104\n",
       "9     0.931547\n",
       "10    0.092038\n",
       "11    0.888302\n",
       "12    0.010004\n",
       "13    0.762499\n",
       "14    0.622616\n",
       "15    0.868322\n",
       "16    0.682876\n",
       "17    0.800518\n",
       "18    0.386700\n",
       "19    0.446691\n",
       "20    0.909511\n",
       "21    0.313736\n",
       "22    0.777443\n",
       "23    0.299042\n",
       "24    0.850078\n",
       "25    0.726214\n",
       "26    0.320351\n",
       "27    0.540950\n",
       "28    0.942440\n",
       "29    0.765940\n",
       "30    0.483193\n",
       "31    0.179643\n",
       "32    0.135924\n",
       "33    0.667151\n",
       "34    0.143214\n",
       "35    0.580312\n",
       "36    0.703065\n",
       "37    0.133429\n",
       "38    0.656003\n",
       "39    0.392456\n",
       "40    0.300901\n",
       "41    0.340480\n",
       "42    0.122092\n",
       "43    0.928257\n",
       "44    0.943029\n",
       "45    0.776977\n",
       "46    0.329079\n",
       "47    0.602122\n",
       "48    0.034706\n",
       "49    0.464869\n",
       "dtype: float64"
      ]
     },
     "execution_count": 14,
     "metadata": {},
     "output_type": "execute_result"
    }
   ],
   "source": [
    "seri = pd.Series(data)\n",
    "seri"
   ]
  },
  {
   "cell_type": "code",
   "execution_count": 17,
   "id": "82abffcf",
   "metadata": {},
   "outputs": [
    {
     "data": {
      "text/plain": [
       "<AxesSubplot:>"
      ]
     },
     "execution_count": 17,
     "metadata": {},
     "output_type": "execute_result"
    },
    {
     "data": {
      "image/png": "[encoded data removed]",
      "text/plain": [
       "<Figure size 432x288 with 1 Axes>"
      ]
     },
     "metadata": {
      "needs_background": "light"
     },
     "output_type": "display_data"
    }
   ],
   "source": [
    "seri.plot()"
   ]
  },
  {
   "cell_type": "code",
   "execution_count": 19,
   "id": "06483282",
   "metadata": {},
   "outputs": [
    {
     "data": {
      "text/plain": [
       "array([[0.5884274 , 0.01051807, 0.13404739],\n",
       "       [0.41998031, 0.31123968, 0.65707489],\n",
       "       [0.09795928, 0.08521778, 0.14152453],\n",
       "       [0.83796288, 0.48412485, 0.09024274],\n",
       "       [0.94133378, 0.44000499, 0.13845508],\n",
       "       [0.94233175, 0.1755497 , 0.35799805],\n",
       "       [0.57779638, 0.1811075 , 0.17569781],\n",
       "       [0.68936283, 0.50533634, 0.19255279],\n",
       "       [0.05576141, 0.65879309, 0.4259757 ],\n",
       "       [0.24494547, 0.28998738, 0.97405565]])"
      ]
     },
     "execution_count": 19,
     "metadata": {},
     "output_type": "execute_result"
    }
   ],
   "source": [
    "data_set = np.random.rand(10,3)\n",
    "data_set"
   ]
  },
  {
   "cell_type": "code",
   "execution_count": 23,
   "id": "278b6a0b",
   "metadata": {},
   "outputs": [
    {
     "data": {
      "text/html": [
       "<div>\n",
       "<style scoped>\n",
       "    .dataframe tbody tr th:only-of-type {\n",
       "        vertical-align: middle;\n",
       "    }\n",
       "\n",
       "    .dataframe tbody tr th {\n",
       "        vertical-align: top;\n",
       "    }\n",
       "\n",
       "    .dataframe thead th {\n",
       "        text-align: right;\n",
       "    }\n",
       "</style>\n",
       "<table border=\"1\" class=\"dataframe\">\n",
       "  <thead>\n",
       "    <tr style=\"text-align: right;\">\n",
       "      <th></th>\n",
       "      <th>A</th>\n",
       "      <th>B</th>\n",
       "      <th>C</th>\n",
       "    </tr>\n",
       "  </thead>\n",
       "  <tbody>\n",
       "    <tr>\n",
       "      <th>0</th>\n",
       "      <td>0.588427</td>\n",
       "      <td>0.010518</td>\n",
       "      <td>0.134047</td>\n",
       "    </tr>\n",
       "    <tr>\n",
       "      <th>1</th>\n",
       "      <td>0.419980</td>\n",
       "      <td>0.311240</td>\n",
       "      <td>0.657075</td>\n",
       "    </tr>\n",
       "    <tr>\n",
       "      <th>2</th>\n",
       "      <td>0.097959</td>\n",
       "      <td>0.085218</td>\n",
       "      <td>0.141525</td>\n",
       "    </tr>\n",
       "    <tr>\n",
       "      <th>3</th>\n",
       "      <td>0.837963</td>\n",
       "      <td>0.484125</td>\n",
       "      <td>0.090243</td>\n",
       "    </tr>\n",
       "    <tr>\n",
       "      <th>4</th>\n",
       "      <td>0.941334</td>\n",
       "      <td>0.440005</td>\n",
       "      <td>0.138455</td>\n",
       "    </tr>\n",
       "    <tr>\n",
       "      <th>5</th>\n",
       "      <td>0.942332</td>\n",
       "      <td>0.175550</td>\n",
       "      <td>0.357998</td>\n",
       "    </tr>\n",
       "    <tr>\n",
       "      <th>6</th>\n",
       "      <td>0.577796</td>\n",
       "      <td>0.181107</td>\n",
       "      <td>0.175698</td>\n",
       "    </tr>\n",
       "    <tr>\n",
       "      <th>7</th>\n",
       "      <td>0.689363</td>\n",
       "      <td>0.505336</td>\n",
       "      <td>0.192553</td>\n",
       "    </tr>\n",
       "    <tr>\n",
       "      <th>8</th>\n",
       "      <td>0.055761</td>\n",
       "      <td>0.658793</td>\n",
       "      <td>0.425976</td>\n",
       "    </tr>\n",
       "    <tr>\n",
       "      <th>9</th>\n",
       "      <td>0.244945</td>\n",
       "      <td>0.289987</td>\n",
       "      <td>0.974056</td>\n",
       "    </tr>\n",
       "  </tbody>\n",
       "</table>\n",
       "</div>"
      ],
      "text/plain": [
       "          A         B         C\n",
       "0  0.588427  0.010518  0.134047\n",
       "1  0.419980  0.311240  0.657075\n",
       "2  0.097959  0.085218  0.141525\n",
       "3  0.837963  0.484125  0.090243\n",
       "4  0.941334  0.440005  0.138455\n",
       "5  0.942332  0.175550  0.357998\n",
       "6  0.577796  0.181107  0.175698\n",
       "7  0.689363  0.505336  0.192553\n",
       "8  0.055761  0.658793  0.425976\n",
       "9  0.244945  0.289987  0.974056"
      ]
     },
     "execution_count": 23,
     "metadata": {},
     "output_type": "execute_result"
    }
   ],
   "source": [
    "pd_data = pd.DataFrame(data_set, columns=['A','B','C'])\n",
    "pd_data"
   ]
  },
  {
   "cell_type": "code",
   "execution_count": 25,
   "id": "cdff0a48",
   "metadata": {},
   "outputs": [
    {
     "data": {
      "text/plain": [
       "<AxesSubplot:>"
      ]
     },
     "execution_count": 25,
     "metadata": {},
     "output_type": "execute_result"
    },
    {
     "data": {
      "image/png": "[encoded data removed]",
      "text/plain": [
       "<Figure size 432x288 with 1 Axes>"
      ]
     },
     "metadata": {
      "needs_background": "light"
     },
     "output_type": "display_data"
    }
   ],
   "source": [
    "pd_data.plot()"
   ]
  },
  {
   "cell_type": "code",
   "execution_count": 30,
   "id": "5172f0d7",
   "metadata": {},
   "outputs": [
    {
     "ename": "AttributeError",
     "evalue": "'DataFrame' object has no attribute 'subplot'",
     "output_type": "error",
     "traceback": [
      "\u001b[1;31m---------------------------------------------------------------------------\u001b[0m",
      "\u001b[1;31mAttributeError\u001b[0m                            Traceback (most recent call last)",
      "Input \u001b[1;32mIn [30]\u001b[0m, in \u001b[0;36m<cell line: 1>\u001b[1;34m()\u001b[0m\n\u001b[1;32m----> 1\u001b[0m \u001b[43mpd_data\u001b[49m\u001b[38;5;241;43m.\u001b[39;49m\u001b[43msubplot\u001b[49m(\u001b[38;5;241m2\u001b[39m, \u001b[38;5;241m2\u001b[39m, \u001b[38;5;241m1\u001b[39m)\n\u001b[0;32m      2\u001b[0m pd_data\u001b[38;5;241m.\u001b[39mplot(np\u001b[38;5;241m.\u001b[39mrandom\u001b[38;5;241m.\u001b[39mrandn(\u001b[38;5;241m50\u001b[39m)\u001b[38;5;241m.\u001b[39mcumsum(), \u001b[38;5;124m'\u001b[39m\u001b[38;5;124mk--\u001b[39m\u001b[38;5;124m'\u001b[39m)\n\u001b[0;32m      3\u001b[0m pd_data\u001b[38;5;241m.\u001b[39msubplot(\u001b[38;5;241m2\u001b[39m, \u001b[38;5;241m2\u001b[39m, \u001b[38;5;241m2\u001b[39m)\n",
      "File \u001b[1;32mC:\\Anaconda3\\lib\\site-packages\\pandas\\core\\generic.py:5575\u001b[0m, in \u001b[0;36mNDFrame.__getattr__\u001b[1;34m(self, name)\u001b[0m\n\u001b[0;32m   5568\u001b[0m \u001b[38;5;28;01mif\u001b[39;00m (\n\u001b[0;32m   5569\u001b[0m     name \u001b[38;5;129;01mnot\u001b[39;00m \u001b[38;5;129;01min\u001b[39;00m \u001b[38;5;28mself\u001b[39m\u001b[38;5;241m.\u001b[39m_internal_names_set\n\u001b[0;32m   5570\u001b[0m     \u001b[38;5;129;01mand\u001b[39;00m name \u001b[38;5;129;01mnot\u001b[39;00m \u001b[38;5;129;01min\u001b[39;00m \u001b[38;5;28mself\u001b[39m\u001b[38;5;241m.\u001b[39m_metadata\n\u001b[0;32m   5571\u001b[0m     \u001b[38;5;129;01mand\u001b[39;00m name \u001b[38;5;129;01mnot\u001b[39;00m \u001b[38;5;129;01min\u001b[39;00m \u001b[38;5;28mself\u001b[39m\u001b[38;5;241m.\u001b[39m_accessors\n\u001b[0;32m   5572\u001b[0m     \u001b[38;5;129;01mand\u001b[39;00m \u001b[38;5;28mself\u001b[39m\u001b[38;5;241m.\u001b[39m_info_axis\u001b[38;5;241m.\u001b[39m_can_hold_identifiers_and_holds_name(name)\n\u001b[0;32m   5573\u001b[0m ):\n\u001b[0;32m   5574\u001b[0m     \u001b[38;5;28;01mreturn\u001b[39;00m \u001b[38;5;28mself\u001b[39m[name]\n\u001b[1;32m-> 5575\u001b[0m \u001b[38;5;28;01mreturn\u001b[39;00m \u001b[38;5;28;43mobject\u001b[39;49m\u001b[38;5;241;43m.\u001b[39;49m\u001b[38;5;21;43m__getattribute__\u001b[39;49m\u001b[43m(\u001b[49m\u001b[38;5;28;43mself\u001b[39;49m\u001b[43m,\u001b[49m\u001b[43m \u001b[49m\u001b[43mname\u001b[49m\u001b[43m)\u001b[49m\n",
      "\u001b[1;31mAttributeError\u001b[0m: 'DataFrame' object has no attribute 'subplot'"
     ]
    }
   ],
   "source": [
    "pd_data.subplot(2, 2, 1)\n",
    "pd_data.plot(np.random.randn(50).cumsum(), 'k--')\n",
    "pd_data.subplot(2, 2, 2)\n",
    "pd_data.hist(np.random.randn(100), bins=20, color='k', alpha=0.3)\n",
    "pd_data.subplot(2, 2, 3)\n",
    "pd_data.scatter(np.arange(30), np.arange(30) + 3 * np.random.randn(30))\n",
    "pd_data.show()"
   ]
  }
 ],
 "metadata": {
  "kernelspec": {
   "display_name": "Python 3 (ipykernel)",
   "language": "python",
   "name": "python3"
  },
  "language_info": {
   "codemirror_mode": {
    "name": "ipython",
    "version": 3
   },
   "file_extension": ".py",
   "mimetype": "text/x-python",
   "name": "python",
   "nbconvert_exporter": "python",
   "pygments_lexer": "ipython3",
   "version": "3.9.12"
  }
 },
 "nbformat": 4,
 "nbformat_minor": 5
}
