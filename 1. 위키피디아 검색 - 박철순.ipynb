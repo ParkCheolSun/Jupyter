{
 "cells": [
  {
   "cell_type": "markdown",
   "id": "7c0ee64d",
   "metadata": {},
   "source": [
    "# 위키피디아 검색"
   ]
  },
  {
   "cell_type": "code",
   "execution_count": 7,
   "id": "c2104055",
   "metadata": {},
   "outputs": [],
   "source": [
    "from selenium import webdriver\n",
    "from selenium.webdriver.common.keys import Keys\n",
    "from selenium.webdriver.common.by import By\n",
    "import time\n",
    "import re"
   ]
  },
  {
   "cell_type": "code",
   "execution_count": 12,
   "id": "f72dbba3",
   "metadata": {},
   "outputs": [
    {
     "name": "stderr",
     "output_type": "stream",
     "text": [
      "C:\\Users\\big303\\AppData\\Local\\Temp\\ipykernel_2176\\203961889.py:1: DeprecationWarning: executable_path has been deprecated, please pass in a Service object\n",
      "  driver = webdriver.Chrome(executable_path='./chromedriver.exe')\n"
     ]
    },
    {
     "name": "stdout",
     "output_type": "stream",
     "text": [
      "빅 데이터는 통상적으로 사용되는 데이터 수집, 관리 및 처리 소프트웨어의 수용 한계를 넘어서는 크기의 데이터를 말한다.[5] 빅 데이터의 사이즈는 단일 데이터 집합의 크기가 수십 테라바이트에서 수 페타바이트에 이르며, 그 크기가 끊임없이 변화하는 것이 특징이다. 빅데이터라는 용어는 1990년대부터 사용되어 왔으며, 존 매쉬가 이 용어를 대중화하였다[6][7].\n"
     ]
    }
   ],
   "source": [
    "driver = webdriver.Chrome(executable_path='./chromedriver.exe')\n",
    "driver.execute_cdp_cmd(\"Page.addScriptToEvaluateOnNewDocument\", {\"source\": \"\"\" Object.defineProperty(navigator, 'webdriver', { get: () => undefined }) \"\"\"})\n",
    "url = 'https://www.wikipedia.org/'\n",
    "driver.get(url)\n",
    "time.sleep(4)\n",
    "\n",
    "driver.find_element(By.XPATH,r'//*[@id=\"searchInput\"]').send_keys('빅데이터')\n",
    "driver.find_element(By.XPATH,r'//*[@id=\"search-form\"]/fieldset/button/i').click()\n",
    "time.sleep(2)\n",
    "content = driver.find_element(By.XPATH,r'//*[@id=\"mw-content-text\"]/div[1]/p[6]')\n",
    "\n",
    "print(content.text)\n",
    "time.sleep(1)\n",
    "driver.close()"
   ]
  }
 ],
 "metadata": {
  "kernelspec": {
   "display_name": "Python 3 (ipykernel)",
   "language": "python",
   "name": "python3"
  },
  "language_info": {
   "codemirror_mode": {
    "name": "ipython",
    "version": 3
   },
   "file_extension": ".py",
   "mimetype": "text/x-python",
   "name": "python",
   "nbconvert_exporter": "python",
   "pygments_lexer": "ipython3",
   "version": "3.9.12"
  }
 },
 "nbformat": 4,
 "nbformat_minor": 5
}
