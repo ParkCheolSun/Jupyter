{
 "cells": [
  {
   "cell_type": "code",
   "execution_count": 12,
   "id": "b85ff52d",
   "metadata": {},
   "outputs": [
    {
     "name": "stdout",
     "output_type": "stream",
     "text": [
      "Requirement already satisfied: cx_Oracle in c:\\anaconda3\\lib\\site-packages (8.3.0)\n"
     ]
    }
   ],
   "source": [
    "!pip install cx_Oracle --upgrade"
   ]
  },
  {
   "cell_type": "code",
   "execution_count": 13,
   "id": "d9eb0296",
   "metadata": {},
   "outputs": [],
   "source": [
    "import cx_Oracle\n",
    "import os"
   ]
  },
  {
   "cell_type": "code",
   "execution_count": 14,
   "id": "dca0f81b",
   "metadata": {},
   "outputs": [],
   "source": [
    "LOCATION = r'C:\\instantclient_21_6'\n",
    "os.environ[\"PATH\"] = LOCATION + \":\" + os.environ[\"PATH\"]\n",
    "connect = cx_Oracle.connect(\"HR\",\"12345\",\"localhost:1521/xe\")\n",
    "cursor = connect.cursor()\n",
    "\n",
    "cursor.execute('insert into python values(:1,:2,:3)',[2,'고길동',45])\n",
    "connect.commit()"
   ]
  }
 ],
 "metadata": {
  "kernelspec": {
   "display_name": "Python 3 (ipykernel)",
   "language": "python",
   "name": "python3"
  },
  "language_info": {
   "codemirror_mode": {
    "name": "ipython",
    "version": 3
   },
   "file_extension": ".py",
   "mimetype": "text/x-python",
   "name": "python",
   "nbconvert_exporter": "python",
   "pygments_lexer": "ipython3",
   "version": "3.9.12"
  }
 },
 "nbformat": 4,
 "nbformat_minor": 5
}
