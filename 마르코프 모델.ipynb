{
 "cells": [
  {
   "cell_type": "code",
   "execution_count": 121,
   "id": "56b254bc",
   "metadata": {},
   "outputs": [],
   "source": [
    "from urllib.request import urlopen\n",
    "from random import randint\n",
    "from bs4 import BeautifulSoup as BS\n",
    "import re"
   ]
  },
  {
   "cell_type": "code",
   "execution_count": 30,
   "id": "af7e3a98",
   "metadata": {},
   "outputs": [],
   "source": [
    "def wordListSum(wordList):\n",
    "    sum = 0\n",
    "    for word, value in wordList.items():\n",
    "        sum += value\n",
    "    return sum\n",
    "\n",
    "def retrieveRandomWord(wordList):\n",
    "    randIndex = randint(1, wordListSum(wordList))\n",
    "    for word, value in wordList.items():\n",
    "        randIndex -= value\n",
    "        if randIndex <= 0:\n",
    "            return word\n",
    "        \n",
    "def buildWordDict(text):\n",
    "    text = text.replace('\\n',' ')\n",
    "    text = text.replace('\"','')\n",
    "    text = text.replace('\\r','')\n",
    "    \n",
    "    punctuation = [',','.',';',':']\n",
    "    for symbol in punctuation:\n",
    "        text = text.replace(symbol,' {} '.format(symbol))\n",
    "        \n",
    "    words = text.split(' ')\n",
    "    words = [word for word in words if word != '']\n",
    "    \n",
    "    wordDict = {}\n",
    "    for i in range(1, len(words)):\n",
    "        if words[i-1] not in wordDict:\n",
    "            wordDict[words[i-1]] = {}\n",
    "        if words[i] not in wordDict[words[i-1]]:\n",
    "            wordDict[words[i-1]][words[i]] = 0\n",
    "        wordDict[words[i-1]][words[i]] += 1\n",
    "    return wordDict;"
   ]
  },
  {
   "cell_type": "code",
   "execution_count": 26,
   "id": "8f4ce6b7",
   "metadata": {},
   "outputs": [
    {
     "name": "stdout",
     "output_type": "stream",
     "text": [
      "['I', 'shall', 'be', 'adopted', ',', 'if', 'this', 'continues', 'to', 'power', 'of', 'power', 'which', 'assumes', 'the', 'spirit', 'contracted', 'in', 'such', 'a', 'misconstruction', 'of', 'shaping', 'their', 'affairs', ';', 'and', 'vigor', ',', 'appears', 'to', 'receive', '.', 'Limited', 'as', 'a', 'period', 'of', 'vigilance', 'sufficient', 'to', 'a', 'reference', 'to', 'apply', 'all', 'future', '.', 'When', 'the', 'patriots', 'have', 'intrusted', 'the', 'specified', 'powers', 'claimed', 'under', 'no', 'instance', 'where', 'their', 'rights', 'of', 'each', 'were', 'never', 'surrendered', '.', 'Until', 'an', 'extensive', 'and', 'restore', 'former', 'prosperity', '.', 'When', 'the', 'supervision', 'of', 'the', 'continuance', 'of', 'our', 'ancestors', 'derived', 'from', 'any', 'benefit', 'to', 'my', 'aid', 'of', 'every', 'interest', ',', 'but', 'to', 'Congress', '.']\n",
      "I shall be adopted , if this continues to power of power which assumes the spirit contracted in such a misconstruction of shaping their affairs ; and vigor , appears to receive . Limited as a period of vigilance sufficient to a reference to apply all future . When the patriots have intrusted the specified powers claimed under no instance where their rights of each were never surrendered . Until an extensive and restore former prosperity . When the supervision of the continuance of our ancestors derived from any benefit to my aid of every interest , but to Congress .\n"
     ]
    }
   ],
   "source": [
    "speech = 'http://pythonscraping.com/files/inaugurationSpeech.txt'\n",
    "text = str(urlopen(speech).read(),'utf-8')\n",
    "wordDict = buildWordDict(text)\n",
    "\n",
    "#for key, value in wordDict.items():\n",
    "#    print(key , value)\n",
    "\n",
    "length = 100\n",
    "chain = ['I']\n",
    "for i in range(0, length):\n",
    "    newWord = retrieveRandomWord(wordDict[chain[-1]])\n",
    "    chain.append(newWord)\n",
    "\n",
    "print(' '.join(chain))"
   ]
  },
  {
   "cell_type": "code",
   "execution_count": 38,
   "id": "d84a050e",
   "metadata": {},
   "outputs": [
    {
     "name": "stdout",
     "output_type": "stream",
     "text": [
      "유엔 헌장은 더 많이 공유하고 지원과 교육 투자에 더욱 강력하게 지지되어야 합니다 . 의장님 , 사무총장님 , 사무총장님 , 문맹으로부터의 자유 , 지원을 해야 하고 유엔은 이를 이끄는 노력을 해왔습니다만 이제는 더 많은 지원을 아끼지 않겠습니다 . 유엔은 이를 이끄는 노력을 배가하여야 합니다 . 이러한 디지털 기술로 민주주의와 행정 서비스 , ACT-A 이니셔티브에 3억 달러 , 각국 대표 여러분 우리가 그동안 보편적으로 받아들이고 축적해온 보편적 국제 규범 체계에 대한 위협은 유엔과 국제사회가 연대하여 그 어느 때보다 막중하다는 것을 의미합니다 . 의장님 , 유네스코 등을 돌리고 이탈하게 된다면 국제사회는 블록화되고 그 위기와 혼란은 더욱 강력하게 실행되어야 합니다 . 사회적 약자에 대한 기여를\n"
     ]
    }
   ],
   "source": [
    "html = urlopen('https://www.korea.kr/archive/speechView.do?newsId=132034638&srchKeyword=')\n",
    "bs = BS(html,'html.parser')\n",
    "content = bs.find('div',{'class':'view-cont'}).get_text()\n",
    "wordDict = buildWordDict(content)\n",
    "\n",
    "length = 100\n",
    "chain = ['유엔']\n",
    "for i in range(0, length):\n",
    "    newWord = retrieveRandomWord(wordDict[chain[-1]])\n",
    "    chain.append(newWord)\n",
    "print(' '.join(chain))"
   ]
  },
  {
   "cell_type": "code",
   "execution_count": 95,
   "id": "d5073dd0",
   "metadata": {},
   "outputs": [
    {
     "name": "stdout",
     "output_type": "stream",
     "text": [
      "성모 마리아께서 소녀의 손가락을 보시곤 말씀하셨어요 . 왜냐하면 입을 닫았어요 . 그 반동으로 방문이 열렸어요 . 하지만 그녀는 현세의 고통과 비참함을 맛보며 살았어요 . 노루가 울창하게 뒤덮인 숲으로 나무 하러 갔는데 , 갑자기 눈앞에 빛나는 별들로 이루어진 왕관을 머리 위에 쓴 아름답고 키가 큰 두려움이 밀려온 소녀가 깨어보니 자신이 대지 위에 누어있는 거예요 . 각 방들엔 찬란한 빛이 방 하나씩을 열어봤어요 . 그 후 즉시 큰 여인 한 가운데요 . 그 금지된 방문을 급하게 쾅 닫곤 도망쳤어요 . ” 그러자 그녀의 마음을 갉아먹고 막 괴롭혀 한시도 쉬지 않게 했어요 . “13번째 방문을 열어다 고백한다면 , 아기 천사들과 놀고요 . “만약 네가\n"
     ]
    }
   ],
   "source": [
    "file = open('동화_1.txt','r',encoding='utf-8')\n",
    "text = file.read()\n",
    "#print(text)\n",
    "wordDict = buildWordDict(text)\n",
    "length = 100\n",
    "chain = ['성모']\n",
    "for i in range(0, length):\n",
    "    newWord = retrieveRandomWord(wordDict[chain[-1]])\n",
    "    chain.append(newWord)\n",
    "print(' '.join(chain))\n",
    "file.close()"
   ]
  },
  {
   "cell_type": "code",
   "execution_count": 142,
   "id": "241cb009",
   "metadata": {},
   "outputs": [
    {
     "name": "stdout",
     "output_type": "stream",
     "text": [
      "class path resource [org/springframework/jdbc/support/sql-error-codes . apache . java : m111 , org . context . internalAutowiredAnnotationProcessor , definition for ObjectCreateRule[className=org . mvc . springframework . com . myspring . definition . annotation . xml]' [13 : 08][INFO ](LoggingAdvice . java : 41][DEBUG](CallMethodRule . driver . apache . lang . HttpServletResponse) throws java : 10][DEBUG](ResolvingLocaleUrlDefinitionDAO . addDefinition({name=/member/memberForm , xptmxm , template=null , org . digester . definition '/member/listMembers' [15 : 56 : 433)-Destroying singletons in org . java : 27][DEBUG](Digester . session . apache . String}] [14 : 59)-5 : 1330)- Fire body() for org . springframework . dtd' [13 : 09][DEBUG](Digester\n"
     ]
    }
   ],
   "source": [
    "file = open('output_1.log','r',encoding='utf-8')\n",
    "text = file.read()\n",
    "wordDict = buildWordDict(text)\n",
    "#print(wordDict)\n",
    "length = 100\n",
    "chain = ['class']\n",
    "for i in range(0, length):\n",
    "    newWord = retrieveRandomWord(wordDict[chain[-1]])\n",
    "    chain.append(newWord)\n",
    "print(' '.join(chain))\n",
    "file.close()"
   ]
  }
 ],
 "metadata": {
  "kernelspec": {
   "display_name": "Python 3 (ipykernel)",
   "language": "python",
   "name": "python3"
  },
  "language_info": {
   "codemirror_mode": {
    "name": "ipython",
    "version": 3
   },
   "file_extension": ".py",
   "mimetype": "text/x-python",
   "name": "python",
   "nbconvert_exporter": "python",
   "pygments_lexer": "ipython3",
   "version": "3.9.12"
  }
 },
 "nbformat": 4,
 "nbformat_minor": 5
}
