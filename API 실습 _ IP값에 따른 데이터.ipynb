{
 "cells": [
  {
   "cell_type": "code",
   "execution_count": 1,
   "id": "6446f3dc",
   "metadata": {},
   "outputs": [],
   "source": [
    "#ipstack key : 903fea672e35a6de1e227b36334b1456"
   ]
  },
  {
   "cell_type": "code",
   "execution_count": 2,
   "id": "85f6ddc2",
   "metadata": {},
   "outputs": [],
   "source": [
    "from urllib.request import urlopen\n",
    "import json"
   ]
  },
  {
   "cell_type": "code",
   "execution_count": 4,
   "id": "d961ac40",
   "metadata": {},
   "outputs": [],
   "source": [
    "def getCountry(ipAddress):\n",
    "    ACCESS_KEY = '903fea672e35a6de1e227b36334b1456'\n",
    "    url = 'http://api.ipstack.com/' + ipAddress\n",
    "    url += '?access_key='+ACCESS_KEY+'&amp;format=1'\n",
    "    response = urlopen(url).read().decode('utf-8')\n",
    "    responsejson = json.loads(response)\n",
    "    return responsejson.get('country_code')"
   ]
  },
  {
   "cell_type": "code",
   "execution_count": 5,
   "id": "dc71497f",
   "metadata": {},
   "outputs": [
    {
     "name": "stdout",
     "output_type": "stream",
     "text": [
      "US\n"
     ]
    }
   ],
   "source": [
    "print(getCountry('50.78.253.58'))"
   ]
  }
 ],
 "metadata": {
  "kernelspec": {
   "display_name": "Python 3 (ipykernel)",
   "language": "python",
   "name": "python3"
  },
  "language_info": {
   "codemirror_mode": {
    "name": "ipython",
    "version": 3
   },
   "file_extension": ".py",
   "mimetype": "text/x-python",
   "name": "python",
   "nbconvert_exporter": "python",
   "pygments_lexer": "ipython3",
   "version": "3.9.12"
  }
 },
 "nbformat": 4,
 "nbformat_minor": 5
}
