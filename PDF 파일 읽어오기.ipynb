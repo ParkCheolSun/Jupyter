{
 "cells": [
  {
   "cell_type": "code",
   "execution_count": 1,
   "id": "71f6ed83",
   "metadata": {},
   "outputs": [],
   "source": [
    "# PDF 파일 정보 읽어오기"
   ]
  },
  {
   "cell_type": "code",
   "execution_count": 4,
   "id": "367492f5",
   "metadata": {},
   "outputs": [
    {
     "name": "stdout",
     "output_type": "stream",
     "text": [
      "Requirement already satisfied: pdfminer3k in c:\\anaconda3\\lib\\site-packages (1.3.4)\n",
      "Requirement already satisfied: ply in c:\\anaconda3\\lib\\site-packages (from pdfminer3k) (3.11)\n"
     ]
    }
   ],
   "source": [
    "!pip install pdfminer3k"
   ]
  },
  {
   "cell_type": "code",
   "execution_count": 22,
   "id": "5f4730e0",
   "metadata": {},
   "outputs": [],
   "source": [
    "from urllib.request import urlopen\n",
    "from pdfminer.pdfinterp import PDFResourceManager, process_pdf\n",
    "from pdfminer.converter import TextConverter\n",
    "from pdfminer.layout import LAParams\n",
    "from io import StringIO\n",
    "from io import open"
   ]
  },
  {
   "cell_type": "code",
   "execution_count": 27,
   "id": "c2982685",
   "metadata": {},
   "outputs": [
    {
     "name": "stdout",
     "output_type": "stream",
     "text": [
      "Requirement already satisfied: PyPDF2 in c:\\anaconda3\\lib\\site-packages (2.10.9)\n",
      "Requirement already satisfied: typing-extensions>=3.10.0.0 in c:\\anaconda3\\lib\\site-packages (from PyPDF2) (4.1.1)\n"
     ]
    }
   ],
   "source": [
    "!pip install PyPDF2"
   ]
  },
  {
   "cell_type": "code",
   "execution_count": 31,
   "id": "3f2c42bf",
   "metadata": {},
   "outputs": [],
   "source": [
    "from PyPDF2 import PdfFileReader, PdfFileWriter"
   ]
  },
  {
   "cell_type": "code",
   "execution_count": 70,
   "id": "da377904",
   "metadata": {},
   "outputs": [],
   "source": [
    "def readPDF(pdfFile):\n",
    "    rsrcmgr = PDFResourceManager()\n",
    "    retstr = StringIO()\n",
    "    laparams = LAParams()\n",
    "    device = TextConverter(rsrcmgr, retstr, laparams=laparams)\n",
    "    \n",
    "    process_pdf(rsrcmgr, device, pdfFile)\n",
    "    device.close()\n",
    "    \n",
    "    content = retstr.getvalue()\n",
    "    retstr.close()\n",
    "    return content\n",
    "\n",
    "def readPDF_URL(url):\n",
    "    pdfFile = urlopen(url)\n",
    "    \n",
    "    rsrcmgr = PDFResourceManager()\n",
    "    retstr = StringIO()\n",
    "    laparams = LAParams()\n",
    "    device = TextConverter(rsrcmgr, retstr, laparams=laparams)\n",
    "    \n",
    "    process_pdf(rsrcmgr, device, pdfFile)\n",
    "    device.close()\n",
    "    \n",
    "    content = retstr.getvalue()\n",
    "    retstr.close()\n",
    "    pdfFile.close()\n",
    "    return content\n",
    "\n",
    "def savePDF_onePage(pdfFile, saveName, pageNum):\n",
    "    pdfReader  = PdfFileReader(open(pdfFile, 'rb'))\n",
    "    pdf_writer = PdfFileWriter()\n",
    "    pdf_writer.add_page(pdfReader.getPage(pageNum))\n",
    "    with open(saveName,'wb') as f:\n",
    "        pdf_writer.write(f)"
   ]
  },
  {
   "cell_type": "code",
   "execution_count": 71,
   "id": "ed23009d",
   "metadata": {},
   "outputs": [
    {
     "name": "stdout",
     "output_type": "stream",
     "text": [
      "효소처리 통밀가루 첨가 머핀의 품질특성 423많은 산업에서 두류의 phytate 저감화를 위하여 수침, 발효, 분쇄, 로스팅, 발아 등을 방법을 이용하고 있다(Fageer 등, 2004; Hurrell 등, 2002; Lestienne 등, 2005b; Temple 등, 2002). 하지만,이러한 방법들은 다른 영양소 및 생리활성 물질들을 손상시킬 수있고(Martinez 등, 1996), 오랜 시간이 걸리기 때문에 산업에서 이용하기에는 비경제적이다. 이에 반해 효소처리는 온화한 조건에서 phytate를 감소시킬 \n",
      "수 있으면서 다른 영양소에 영향을 주지않으므로(Greiner와 Konietzny, 2006), phytase를 이용하면 곡류의 phytate 함량을 효과적으로 감소시키며 미네랄의 체내 이용률을증가시킬 수 있다고 알려져 있다(Frontela 등, 2008). Phytase는 phytate를 가수분해하여 이노시톨과 무기인산을 생성하는 인산 가수분해효소이다. Phytase를 동물의 사료에 첨가하게되면 무기인산의 공급을 높이고 총 인산의 배설을 감소시키므로,산업에서 두류 등에 많이 포함되어 있는 phytate를 감소시켜 \n",
      "미네랄의 이용률을 높일 수 있어 영양학적 가치를 증진시킬 수 있다. Cellulase는 동물 사료산업에서 처음 사용되었고 그 후, 식품에 응용되었는데 곡류와 채소의 항 영양인자 및 세포벽 성분을가수분해하여 영양적 가치를 높여주는 것으로 알려져 있으며(Bhat, 2000), 특히 식이섬유소와 미네랄의 결합을 약하게 하여 체내 미네랄의 이용률을 증진시킬 수 있다고 보고되었다(Wang 등, 2008). Phytase를 \n",
      "이용하여 phytate 함량을 감소시킨 가공식품에 대한 연구는 주로 제빵의 발효과정 중에 phytase를 첨가하여 최종제품의 phytate 함량과 phytase 활성 측정 및 제품특성에 대해 치중되어왔으며(Daniels와 Fisher, 1981; Haros 등, 2001; Nielsen 등, 2007), 머핀, 케익과 같은 발효과정이 없는 제과에서 원료자체의 phytate 저감화를 통해 미네랄 이용률을 증진시키고자 하는 연구와 최종 제품의 미네랄 체내 이용률에 관한 연구는 제한적이다\n",
      ".따라서 본 연구에서는 phytase와 cellulase를 단일 또는 복합으로 처리한 통밀가루의 성분변화를 분석하고 위·장관소화 후 철분,칼슘 및 아연의 체내 이용률에 대해 평가하였다. 또한, 효소처리한 통밀가루의 식품산업에서 기능성 소재로의 이용가능성을 탐색하기 위해 머핀을 제조하여 머핀의 품질특성 측정하여 산업적이용의 기초 자료로 활용하고자 하였다.\n",
      "재료 및 방법\n",
      "재료\n",
      "본 실험에 사용한 통밀가루(Bob’s red mill, Milwaukie, OR,USA)는 서울시 중구의 방산시장에서 구입하였다. E. coli로부터얻어진 phytase (Finase\n",
      "® L, activity 5000 ppu/g, optimum pH4.5-6.0, AB enzymes GmbH, Darmstadt, Germany)는 ㈜비전바이오켐(Bision Corporation, Seongnam-si, Korea)에서 제공받아 사용하였으며, Cellulase (Cellulclast\n",
      "® 1.5L, ≥700 endoglucanase units/g of solution, from Trichoderma reesei, 최적 활성온도 50-60\n",
      "oC,최적 pH 4.5-6.0)는 Novozyme Korea (Seoul, Korea)에서 구매하여사용하였다. Total dietary fiber assay kit (TDF-100A), Sodiumphytate (P0109)는 Sigma-Aldrich (St Louis, MO, USA)에서 구입하여 사용하였다.머핀 제조에 사용한 재료는 통밀가루(Bob’s red mill), 설탕 (CJ, Seoul, Korea), 쇼트닝(Ottogi, Seoul, Korea), 탈지분유(Seoul milk, Seoul, Korea), 베이킹 파우더(Jenico, Seoul, Korea), 전란파우더 (Poonglim foods Co., Ltd, Seoul, Korea), 소금(CJ)는 서울시 중구의 방산시장에서 구매하여 사용하였다.효소처리 통밀가루 제조\n",
      "통밀가루를 500 mesh 체에 내린 후, 3배의 0.1 M acetate buf- fer를 가한 뒤 30분간 실온에서 잘 교반 시킨 후, 통밀가루 건중량의 2%, 10% 및 20%의 phytase 와 cellulase를 첨가하고, cellu- lase와 phytase를 5:5 비율로 총 20% 첨가하여 50\n",
      "oC의 shaking water bath (WB-6, Daihan Scientific Co., Seoul, Korea)에서 2시간 동안 반응시켰다. 반응이 끝난 시료는 5,000×g, 15분간 원심분리(Optima TL, Beckman Instruments, Fullerton, CA, USA)하여상등액을 40\n",
      "oC dry oven에서 24시간 건조하여 미세분쇄기(RT-02, Mill-Tech, Taipei, Taiwan)로 마쇄한 뒤 100 mesh체에 내려 냉장보관 하였다.\n",
      "총 식이섬유 함량\n",
      "효소 분해를 위하여 시료 0.5 g에 MES/TRIS buffer (MES 0.05M과 TRIS 0.05 M 증류수 1L에 녹여 6 N NaOH로 pH 8.2로 조정)를 각 20 mL씩 첨가한 후, α-amylase 25 μL를 가하여 95\n",
      "oC의 shaking water bath에서 100 rpm의 속도로 15분간 반응시킨 후 shaking을 중단하고 25분간 진탕하였다. Shaking water bath의 온도를 60\n",
      "oC로 낮추고 protease solution (protease 50 mg, 증류수 1 mL) 50 μL를 가하여 60\n",
      "oC의 shaking water bath (WB-6, DaihanScientific Co.)에서 100 rpm의 속도로 30분간 진탕하고 0.561 N HCl과 6 N NaOH를 이용하여 pH를 4.2±0.5 사이로 조정하였다.다시 amyloglucosidase 150 μL를 첨가하여 60\n",
      "oC에서 30분간 반응시킨 후, Celite를 넣어 항량한 유리여과기에 효소 분해한 시료를넣어 감압여과 한 다음 70\n",
      "oC로 예열한 증류수 5m L을 가하여 세척하였다. 수용성 식이섬유는 여과된 시료에 60\n",
      "oC로 예열한 95%에탄올을 4배 용량으로 가하고 78%, 95% 에탄올, 아세톤 순으로 각각 7.5 mL을 가하여 두 번씩 세척 및 여과한 다음, 유리여과기를 건조기에서 105\n",
      "oC로 24시간 동안 건조 후 1시간 동안 데시케이터에 방냉하여 잔사량을 구하였다. 한편, 불용성 식이섬유는 여과한 후 남은 잔사에 95% 에탄올, 아세톤 순으로 각각 5 mL을 가하여 2회 세척 후 105\n",
      "oC로 24시간 동안 건조 후 1시간동안 데시케이터에 방냉하여 잔사량을 구하였다. 수용성 식이섬유와 불용성 식이섬유의 잔사는 525\n",
      "oC 회화로(Difital Muffle Fur- nace, F-05, Daihan Scientific Co.)에서 5시간 동안 회화 후 회분량을 구하여 다음과 같은 식으로 그 양을 구하였다. 총 식이섬유 (Total dietary fiber)는 수용성 식이섬유와 불용성 식이섬유의 합으로 계산하였다.식이섬유소(%)={(시료평균잔사−회분량−공시험)/시료무게}×100\n",
      "Phyatate 함량\n",
      "시료의 phytate 함량은 Haung과 Lantzsch(1983)의 방법을 약간변형하여 분석하였다. 시료 0.2 g에 2% (v/v) HCl-10% (w/v) Na\n",
      "2-\n",
      "SO4 용액 5m L을 넣고, 실온에서 교반기로 200 rpm으로 3시간동안 추출한 뒤 Whatman No. 4 여과지(20-25 μm, Whatman International Ltd., Kent, UK)로 여과하였다. 여과액 1m L을 falcon tube에 담은 후 FeCl\n",
      "3(FeCl3·6H2O) 1.2 mL을 첨가하고 75분간 끊는 물에서 가열하였다. 실온에서 1시간 동안 냉각시킨 3,500 rpm에서 15분간 원심분리 하여 얻은 상층액을 여과지(11 μm, No. 1, Whatman International Ltd.)로 여과하여 분석시료로 사용하였다.분석시료 1m L에 Wade Reagent [0.03% (w/v) FeCl\n",
      "3·6H2O와 0.3% (w/v) sulfosalicylic acid를 증류수 100 mL로 용해] 0.25 mL\n"
     ]
    }
   ],
   "source": [
    "#pdfFile = urlopen('http://pythonscraping.com/pages/warandpeace/chapter1.pdf')\n",
    "#outputString = readPDF(pdfFile)\n",
    "#print(outputString)\n",
    "#pdfFile.close()\n",
    "\n",
    "#pdfFile = urlopen('file:///D:/Jupyter/test.pdf')\n",
    "#outputString = readPDF(pdfFile)\n",
    "#print(outputString)\n",
    "#pdfFile.close()\n",
    "\n",
    "#outputString = readPDF_URL('file:///D:/Jupyter/test.pdf')\n",
    "#print(outputString)\n",
    "\n",
    "pdfReader  = PdfFileReader(open(\"test.pdf\", 'rb'))\n",
    "#print(pdfReader.getPage(1).extract_text())\n",
    "#print(pdfReader.getNumPages())\n",
    "#for i in range(pdfReader.getNumPages()):\n",
    "#    print(pdfReader.getPage(i).extract_text())\n",
    "text = pdfReader.getPage(1).extract_text()\n",
    "\n",
    "pdf_writer = PdfFileWriter()\n",
    "pdf_writer.add_page(pdfReader.getPage(1))\n",
    "with open('outPDF.pdf','wb') as f:\n",
    "    pdf_writer.write(f)\n",
    "savePDF_onePage(\"test.pdf\",\"onePage.pdf\",1)\n",
    "pdfReader  = PdfFileReader(open(\"outPDF.pdf\", 'rb'))\n",
    "print(pdfReader.getPage(0).extract_text())"
   ]
  }
 ],
 "metadata": {
  "kernelspec": {
   "display_name": "Python 3 (ipykernel)",
   "language": "python",
   "name": "python3"
  },
  "language_info": {
   "codemirror_mode": {
    "name": "ipython",
    "version": 3
   },
   "file_extension": ".py",
   "mimetype": "text/x-python",
   "name": "python",
   "nbconvert_exporter": "python",
   "pygments_lexer": "ipython3",
   "version": "3.9.12"
  }
 },
 "nbformat": 4,
 "nbformat_minor": 5
}
