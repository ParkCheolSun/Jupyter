{
 "cells": [
  {
   "cell_type": "markdown",
   "id": "baa47df2",
   "metadata": {},
   "source": [
    "# 2. 국민동의청원 - 박철순"
   ]
  },
  {
   "cell_type": "code",
   "execution_count": 6,
   "id": "99caa66d",
   "metadata": {},
   "outputs": [],
   "source": [
    "from selenium import webdriver\n",
    "from selenium.webdriver.common.keys import Keys\n",
    "from selenium.webdriver.common.by import By\n",
    "import time\n",
    "import re"
   ]
  },
  {
   "cell_type": "code",
   "execution_count": 11,
   "id": "9116e86b",
   "metadata": {},
   "outputs": [
    {
     "name": "stderr",
     "output_type": "stream",
     "text": [
      "C:\\Users\\big303\\AppData\\Local\\Temp\\ipykernel_13792\\3185264355.py:1: DeprecationWarning: executable_path has been deprecated, please pass in a Service object\n",
      "  driver = webdriver.Chrome(executable_path='./chromedriver.exe')\n"
     ]
    }
   ],
   "source": [
    "driver = webdriver.Chrome(executable_path='./chromedriver.exe')\n",
    "url = 'https://petitions.assembly.go.kr/'\n",
    "driver.get(url)\n",
    "time.sleep(3)\n",
    "driver.find_element(By.XPATH,r'//*[@id=\"contentsbody\"]/section[1]/div[1]/div[2]/div/div/article[1]/div/a/dl/dt/span[2]').click()\n",
    "time.sleep(3)\n",
    "title = driver.find_element(By.XPATH,r'//*[@id=\"contentsbody\"]/div/div/div[3]/div[2]/dl[2]/dd').text\n",
    "content = driver.find_element(By.XPATH,r'//*[@id=\"contentsbody\"]/div/div/div[3]/div[2]/dl[3]/dd').text\n",
    "\n",
    "file = open('국민동의.txt','w',encoding='utf-8')\n",
    "file.write('제목 : '+ title)\n",
    "file.write('\\n내용 : '+ content)\n",
    "file.close\n",
    "\n",
    "time.sleep(2)\n",
    "driver.close()"
   ]
  }
 ],
 "metadata": {
  "kernelspec": {
   "display_name": "Python 3 (ipykernel)",
   "language": "python",
   "name": "python3"
  },
  "language_info": {
   "codemirror_mode": {
    "name": "ipython",
    "version": 3
   },
   "file_extension": ".py",
   "mimetype": "text/x-python",
   "name": "python",
   "nbconvert_exporter": "python",
   "pygments_lexer": "ipython3",
   "version": "3.9.12"
  }
 },
 "nbformat": 4,
 "nbformat_minor": 5
}
